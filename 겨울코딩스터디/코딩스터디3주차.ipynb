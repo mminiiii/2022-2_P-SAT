{
  "nbformat": 4,
  "nbformat_minor": 0,
  "metadata": {
    "colab": {
      "provenance": [],
      "machine_shape": "hm"
    },
    "kernelspec": {
      "name": "python3",
      "display_name": "Python 3"
    },
    "language_info": {
      "name": "python"
    },
    "accelerator": "GPU",
    "gpuClass": "premium"
  },
  "cells": [
    {
      "cell_type": "code",
      "execution_count": 1,
      "metadata": {
        "id": "1XjZ-TOLt-be"
      },
      "outputs": [],
      "source": [
        "import torch\n",
        "import torchvision.transforms as tf\n",
        "import pathlib\n",
        "import sklearn\n",
        "import numpy as np\n",
        "import PIL\n",
        "import matplotlib.pyplot as plt"
      ]
    },
    {
      "cell_type": "markdown",
      "source": [
        "EDA"
      ],
      "metadata": {
        "id": "1WTb6mVC5998"
      }
    },
    {
      "cell_type": "code",
      "source": [
        "np.random.seed(17)"
      ],
      "metadata": {
        "id": "a7F6nktSuzwY"
      },
      "execution_count": 2,
      "outputs": []
    },
    {
      "cell_type": "code",
      "source": [
        "from google.colab import drive\n",
        "drive.mount('/content/drive')"
      ],
      "metadata": {
        "colab": {
          "base_uri": "https://localhost:8080/"
        },
        "id": "HBBBrUwGu4bH",
        "outputId": "d8045de9-d070-45c6-9850-776736cb56cd"
      },
      "execution_count": 3,
      "outputs": [
        {
          "output_type": "stream",
          "name": "stdout",
          "text": [
            "Drive already mounted at /content/drive; to attempt to forcibly remount, call drive.mount(\"/content/drive\", force_remount=True).\n"
          ]
        }
      ]
    },
    {
      "cell_type": "code",
      "source": [
        "# dogdir = \"/content/drive/MyDrive/겨울코딩스터디/코딩스터디3/training_set/dogs\"\n",
        "# catdir = \"/content/drive/MyDrive/겨울코딩스터디/코딩스터디3/training_set/cats\"\n",
        "\n",
        "dogdir = \"/content/drive/MyDrive/training_set/dogs\"\n",
        "catdir = \"/content/drive/MyDrive/training_set/cats\""
      ],
      "metadata": {
        "id": "Jf8Rg5VWvK33"
      },
      "execution_count": 4,
      "outputs": []
    },
    {
      "cell_type": "code",
      "source": [
        "cats, dogs = [], []\n",
        "for i in pathlib.Path(catdir).iterdir():\n",
        "    cats.append(i)\n",
        "    \n",
        "for i in pathlib.Path(dogdir).iterdir():\n",
        "    dogs.append(i)"
      ],
      "metadata": {
        "id": "VSV3X5OBvglo"
      },
      "execution_count": 5,
      "outputs": []
    },
    {
      "cell_type": "code",
      "source": [
        "from sklearn.model_selection import train_test_split\n",
        "\n",
        "cat_tr, cat_val = train_test_split(cats, test_size=0.2, random_state=17)\n",
        "dog_tr, dog_val = train_test_split(dogs, test_size=0.2, random_state=17)\n",
        "\n",
        "len(cat_tr), len(cat_val), len(dog_tr), len(dog_val)"
      ],
      "metadata": {
        "id": "Sa58buWx1uD1",
        "colab": {
          "base_uri": "https://localhost:8080/"
        },
        "outputId": "cf3ac20a-f291-4170-eb8f-ca3829a36598"
      },
      "execution_count": 6,
      "outputs": [
        {
          "output_type": "execute_result",
          "data": {
            "text/plain": [
              "(3200, 800, 3204, 801)"
            ]
          },
          "metadata": {},
          "execution_count": 6
        }
      ]
    },
    {
      "cell_type": "code",
      "source": [
        "train_set = cat_tr + dog_tr\n",
        "val_set = cat_val + dog_val\n",
        "\n",
        "len(train_set), len(val_set)"
      ],
      "metadata": {
        "colab": {
          "base_uri": "https://localhost:8080/"
        },
        "id": "QDSEVvWw5JQb",
        "outputId": "042bebcc-4969-4bd5-c6a0-f3b2bad8e81e"
      },
      "execution_count": 7,
      "outputs": [
        {
          "output_type": "execute_result",
          "data": {
            "text/plain": [
              "(6404, 1601)"
            ]
          },
          "metadata": {},
          "execution_count": 7
        }
      ]
    },
    {
      "cell_type": "code",
      "source": [
        "train_transforms = tf.Compose([tf.Resize((128, 128)),\n",
        "                               tf.RandomHorizontalFlip(p = 0.5),\n",
        "                               tf.ToTensor()])\n",
        "\n",
        "val_transforms = tf.Compose([tf.Resize((128, 128)),\n",
        "                             tf.ToTensor()])"
      ],
      "metadata": {
        "id": "zDsfrxH42iel"
      },
      "execution_count": 8,
      "outputs": []
    },
    {
      "cell_type": "code",
      "source": [
        "from torch.utils.data import Dataset\n",
        "\n",
        "class DogsCats(Dataset):\n",
        "  def __init__(self, data, transforms):\n",
        "    self.data = data\n",
        "    self.transforms = transforms\n",
        "\n",
        "  def __len__(self):\n",
        "    return len(self.data)\n",
        "  \n",
        "  def __getitem__(self, index):\n",
        "    path = self.data[index]\n",
        "    img = PIL.Image.open(path)\n",
        "    img = self.transforms(img)\n",
        "\n",
        "    if \"cat\" in str(self.data[index]):\n",
        "      label = 0\n",
        "    else:\n",
        "      label = 1\n",
        "\n",
        "    return img, label"
      ],
      "metadata": {
        "id": "71uxlIfR3YS9"
      },
      "execution_count": 9,
      "outputs": []
    },
    {
      "cell_type": "code",
      "source": [
        "train = DogsCats(train_set, train_transforms)\n",
        "val = DogsCats(val_set, val_transforms)\n",
        "\n",
        "len(train), len(val)"
      ],
      "metadata": {
        "colab": {
          "base_uri": "https://localhost:8080/"
        },
        "id": "eiiX2KaP46Xr",
        "outputId": "154b9497-ac83-407b-e01b-47ecfd50b2f5"
      },
      "execution_count": 10,
      "outputs": [
        {
          "output_type": "execute_result",
          "data": {
            "text/plain": [
              "(6404, 1601)"
            ]
          },
          "metadata": {},
          "execution_count": 10
        }
      ]
    },
    {
      "cell_type": "code",
      "source": [
        "from torch.utils.data import DataLoader\n",
        "\n",
        "train_loader = DataLoader(train, batch_size=64, shuffle=True)\n",
        "val_loader = DataLoader(val, batch_size=64, shuffle=True)"
      ],
      "metadata": {
        "id": "ExFopXHY5kt7"
      },
      "execution_count": 11,
      "outputs": []
    },
    {
      "cell_type": "markdown",
      "source": [
        "Modeling"
      ],
      "metadata": {
        "id": "ody079D05_zS"
      }
    },
    {
      "cell_type": "code",
      "source": [
        "from torch import nn\n",
        "import torch.nn.functional as F\n",
        "\n",
        "class mycnn(nn.Module):\n",
        "  def __init__(self):\n",
        "    super(mycnn, self).__init__()\n",
        "\n",
        "    self.conv1 = nn.Conv2d(3, 16, 3)\n",
        "    self.conv2 = nn.Conv2d(16, 32, 3)\n",
        "    self.conv3 = nn.Conv2d(32, 64, 3)\n",
        "    self.conv4 = nn.Conv2d(64, 128, 3)\n",
        "    self.conv5 = nn.Conv2d(128, 256, 3)\n",
        "\n",
        "    self.bn1 = nn.BatchNorm2d(16)\n",
        "    self.bn2 = nn.BatchNorm2d(32)\n",
        "    self.bn3 = nn.BatchNorm2d(64)\n",
        "    self.bn4 = nn.BatchNorm2d(128)\n",
        "    self.bn5 = nn.BatchNorm2d(256)\n",
        "\n",
        "    self.fc = nn.Linear(1024, 2)\n",
        "\n",
        "  def forward(self, x):\n",
        "    x = self.conv1(x)\n",
        "    x = self.bn1(x)\n",
        "    x = F.relu(x)\n",
        "    x = F.max_pool2d(x, 2, 2)\n",
        "\n",
        "    x = self.conv2(x)\n",
        "    x = self.bn2(x)\n",
        "    x = F.relu(x)\n",
        "    x = F.max_pool2d(x, 2, 2)\n",
        "\n",
        "    x = self.conv3(x)\n",
        "    x = self.bn3(x)\n",
        "    x = F.relu(x)\n",
        "    x = F.max_pool2d(x, 2, 2)\n",
        "\n",
        "    x = self.conv4(x)\n",
        "    x = self.bn4(x)\n",
        "    x = F.relu(x)\n",
        "    x = F.max_pool2d(x, 2, 2)\n",
        "\n",
        "    x = self.conv5(x)\n",
        "    x = self.bn5(x)\n",
        "    x = F.relu(x)\n",
        "    x = F.max_pool2d(x, 2, 2)\n",
        "\n",
        "    x = torch.flatten(x, 1)\n",
        "    x = self.fc(x)\n",
        "\n",
        "    return x\n"
      ],
      "metadata": {
        "id": "kHdMg_7f56my"
      },
      "execution_count": 12,
      "outputs": []
    },
    {
      "cell_type": "code",
      "source": [
        "device = torch.device('cuda') if torch.cuda.is_available() else torch.device('cpu')"
      ],
      "metadata": {
        "id": "ZG6WcLRX9Gnj"
      },
      "execution_count": 13,
      "outputs": []
    },
    {
      "cell_type": "code",
      "source": [
        "model = mycnn()\n",
        "model.to(device)"
      ],
      "metadata": {
        "colab": {
          "base_uri": "https://localhost:8080/"
        },
        "id": "A2_Xt7LI9Izy",
        "outputId": "cad3a9a8-22b9-4e9e-b6ab-9325878a149d"
      },
      "execution_count": 14,
      "outputs": [
        {
          "output_type": "execute_result",
          "data": {
            "text/plain": [
              "mycnn(\n",
              "  (conv1): Conv2d(3, 16, kernel_size=(3, 3), stride=(1, 1))\n",
              "  (conv2): Conv2d(16, 32, kernel_size=(3, 3), stride=(1, 1))\n",
              "  (conv3): Conv2d(32, 64, kernel_size=(3, 3), stride=(1, 1))\n",
              "  (conv4): Conv2d(64, 128, kernel_size=(3, 3), stride=(1, 1))\n",
              "  (conv5): Conv2d(128, 256, kernel_size=(3, 3), stride=(1, 1))\n",
              "  (bn1): BatchNorm2d(16, eps=1e-05, momentum=0.1, affine=True, track_running_stats=True)\n",
              "  (bn2): BatchNorm2d(32, eps=1e-05, momentum=0.1, affine=True, track_running_stats=True)\n",
              "  (bn3): BatchNorm2d(64, eps=1e-05, momentum=0.1, affine=True, track_running_stats=True)\n",
              "  (bn4): BatchNorm2d(128, eps=1e-05, momentum=0.1, affine=True, track_running_stats=True)\n",
              "  (bn5): BatchNorm2d(256, eps=1e-05, momentum=0.1, affine=True, track_running_stats=True)\n",
              "  (fc): Linear(in_features=1024, out_features=2, bias=True)\n",
              ")"
            ]
          },
          "metadata": {},
          "execution_count": 14
        }
      ]
    },
    {
      "cell_type": "code",
      "source": [
        "import torch.optim as optim\n",
        "\n",
        "optimizer = optim.Adam(model.parameters(), 0.001)\n",
        "loss_fn = nn.CrossEntropyLoss()"
      ],
      "metadata": {
        "id": "b6ix9bQX9RyK"
      },
      "execution_count": 15,
      "outputs": []
    },
    {
      "cell_type": "code",
      "source": [
        "epoch = 30\n",
        "wrong = torch.tensor([])\n",
        "\n",
        "for ep in range(epoch):\n",
        "\n",
        "  tr_acc = 0\n",
        "  tr_loss = 0\n",
        "  val_acc = 0\n",
        "  val_loss = 0\n",
        "\n",
        "  for i, data in enumerate(train_loader):\n",
        "    model.train()\n",
        "\n",
        "    img, label = data\n",
        "    img = img.to(device)\n",
        "    label = label.to(device)\n",
        "\n",
        "    out = model(img)\n",
        "    pred = torch.argmax(out, dim=1)\n",
        "\n",
        "    loss = loss_fn(out, label)\n",
        "    tr_loss += loss\n",
        "    tr_acc += (pred == label).sum().item()\n",
        "\n",
        "    optimizer.zero_grad()\n",
        "    loss.backward()\n",
        "    optimizer.step()\n",
        "\n",
        "  model.eval()\n",
        "  with torch.no_grad():\n",
        "    for i, data in enumerate(val_loader):\n",
        "      img, label = data\n",
        "      img = img.to(device)\n",
        "      label = label.to(device)\n",
        "\n",
        "      out = model(img)\n",
        "      pred = torch.argmax(out, dim=1)\n",
        "\n",
        "      val_loss += loss_fn(out, label)\n",
        "      val_acc += (pred == label).sum().item()\n",
        "\n",
        "      wrong = torch.cat([wrong, img[label != pred].detach().cpu()])\n",
        "\n",
        "  print(\"Epoch: {},  train_acc: {:.4f}, train_loss: {:.4f}, val_acc: {:.4f}, val_loss: {:.4f}\"\\\n",
        "        .format(ep+1, (tr_acc/len(train)), tr_loss, (val_acc/len(val)), val_loss))"
      ],
      "metadata": {
        "id": "XE2iPkq5-IKi",
        "colab": {
          "base_uri": "https://localhost:8080/"
        },
        "outputId": "45490068-ef72-4c47-b3dc-5558c963a4f4"
      },
      "execution_count": 16,
      "outputs": [
        {
          "output_type": "stream",
          "name": "stdout",
          "text": [
            "Epoch: 1,  train_acc: 0.6584946908182386, train_loss: 63.491641998291016, val_acc: 0.6983135540287321, val_loss: 15.74945068359375\n",
            "Epoch: 2,  train_acc: 0.7406308557151781, train_loss: 52.01455307006836, val_acc: 0.6970643347907558, val_loss: 15.676607131958008\n",
            "Epoch: 3,  train_acc: 0.7846658338538414, train_loss: 46.193687438964844, val_acc: 0.7726420986883198, val_loss: 12.922240257263184\n",
            "Epoch: 4,  train_acc: 0.8226108682073704, train_loss: 40.1824951171875, val_acc: 0.7857589006870705, val_loss: 11.572967529296875\n",
            "Epoch: 5,  train_acc: 0.8330730793254216, train_loss: 37.64651870727539, val_acc: 0.806371018113679, val_loss: 12.004952430725098\n",
            "Epoch: 6,  train_acc: 0.8588382261086821, train_loss: 32.944244384765625, val_acc: 0.7426608369768894, val_loss: 16.331375122070312\n",
            "Epoch: 7,  train_acc: 0.8885071830106184, train_loss: 27.03021812438965, val_acc: 0.8082448469706434, val_loss: 10.950389862060547\n",
            "Epoch: 8,  train_acc: 0.8939725171767645, train_loss: 25.90253448486328, val_acc: 0.816364772017489, val_loss: 10.047537803649902\n",
            "Epoch: 9,  train_acc: 0.8844472204871955, train_loss: 27.377851486206055, val_acc: 0.8413491567770144, val_loss: 9.331664085388184\n",
            "Epoch: 10,  train_acc: 0.9145846346033729, train_loss: 21.564598083496094, val_acc: 0.797001873828857, val_loss: 13.712228775024414\n",
            "Epoch: 11,  train_acc: 0.9080262336039975, train_loss: 23.45981788635254, val_acc: 0.8532167395377889, val_loss: 8.507471084594727\n",
            "Epoch: 12,  train_acc: 0.915053091817614, train_loss: 21.425575256347656, val_acc: 0.8432229856339788, val_loss: 10.394265174865723\n",
            "Epoch: 13,  train_acc: 0.943628981886321, train_loss: 15.052680969238281, val_acc: 0.8532167395377889, val_loss: 9.41392993927002\n",
            "Epoch: 14,  train_acc: 0.966895690193629, train_loss: 10.636946678161621, val_acc: 0.8544659587757651, val_loss: 9.581475257873535\n",
            "Epoch: 15,  train_acc: 0.9697064334790756, train_loss: 8.835221290588379, val_acc: 0.8463460337289195, val_loss: 11.52608871459961\n",
            "Epoch: 16,  train_acc: 0.9722048719550281, train_loss: 8.287274360656738, val_acc: 0.8607120549656465, val_loss: 10.119230270385742\n",
            "Epoch: 17,  train_acc: 0.9809494066208619, train_loss: 6.090543270111084, val_acc: 0.8544659587757651, val_loss: 12.357940673828125\n",
            "Epoch: 18,  train_acc: 0.9740787008119925, train_loss: 7.418903350830078, val_acc: 0.8051217988757027, val_loss: 24.844667434692383\n",
            "Epoch: 19,  train_acc: 0.9561211742660837, train_loss: 12.518363952636719, val_acc: 0.8557151780137414, val_loss: 10.5587158203125\n",
            "Epoch: 20,  train_acc: 0.986102435977514, train_loss: 4.854119777679443, val_acc: 0.8757026858213617, val_loss: 10.3137845993042\n",
            "Epoch: 21,  train_acc: 0.9892254840724547, train_loss: 3.2232019901275635, val_acc: 0.8750780762023735, val_loss: 10.492807388305664\n",
            "Epoch: 22,  train_acc: 0.9914116177389132, train_loss: 2.942364454269409, val_acc: 0.8550905683947533, val_loss: 12.498076438903809\n",
            "Epoch: 23,  train_acc: 0.9751717676452217, train_loss: 6.5623779296875, val_acc: 0.8363522798251093, val_loss: 13.199544906616211\n",
            "Epoch: 24,  train_acc: 0.9901623985009369, train_loss: 3.246804714202881, val_acc: 0.8400999375390381, val_loss: 13.247838020324707\n",
            "Epoch: 25,  train_acc: 0.990787008119925, train_loss: 3.131547689437866, val_acc: 0.8513429106808245, val_loss: 11.995999336242676\n",
            "Epoch: 26,  train_acc: 0.9968769519050593, train_loss: 1.5330384969711304, val_acc: 0.8619612742036228, val_loss: 11.817803382873535\n",
            "Epoch: 27,  train_acc: 0.9967207995003123, train_loss: 1.6310553550720215, val_acc: 0.8475952529668956, val_loss: 15.675087928771973\n",
            "Epoch: 28,  train_acc: 0.9912554653341662, train_loss: 3.005478620529175, val_acc: 0.8688319800124922, val_loss: 12.261955261230469\n",
            "Epoch: 29,  train_acc: 0.9950031230480949, train_loss: 2.1067445278167725, val_acc: 0.8588382261086821, val_loss: 12.581677436828613\n",
            "Epoch: 30,  train_acc: 0.9989069331667708, train_loss: 0.7607739567756653, val_acc: 0.8688319800124922, val_loss: 16.271692276000977\n"
          ]
        }
      ]
    },
    {
      "cell_type": "code",
      "source": [
        "plt.imshow(wrong[5].permute(1, 2, 0))"
      ],
      "metadata": {
        "colab": {
          "base_uri": "https://localhost:8080/",
          "height": 286
        },
        "id": "sMwBqN_HvnSZ",
        "outputId": "3d6d77ef-a423-4ed2-89dc-add3d69565d2"
      },
      "execution_count": 17,
      "outputs": [
        {
          "output_type": "execute_result",
          "data": {
            "text/plain": [
              "<matplotlib.image.AxesImage at 0x7f8df0716a60>"
            ]
          },
          "metadata": {},
          "execution_count": 17
        },
        {
          "output_type": "display_data",
          "data": {
            "text/plain": [
              "<Figure size 432x288 with 1 Axes>"
            ],
            "image/png": "[encoded data removed]"
          },
          "metadata": {
            "needs_background": "light"
          }
        }
      ]
    },
    {
      "cell_type": "markdown",
      "source": [
        "ResNet34 (fine tuning x)"
      ],
      "metadata": {
        "id": "3nk0X9stwwTQ"
      }
    },
    {
      "cell_type": "code",
      "source": [
        "from torchvision import models\n",
        "import torch\n",
        "\n",
        "resnet34 = models.resnet34(pretrained=True)\n",
        "\n",
        "num_ftrs = resnet34.fc.in_features\n",
        "resnet34.fc = nn.Linear(num_ftrs, 2)\n",
        "\n",
        "resnet34.to(device)"
      ],
      "metadata": {
        "colab": {
          "base_uri": "https://localhost:8080/"
        },
        "id": "1g4DwZDXwzQQ",
        "outputId": "ecae3ccd-819d-40e9-a282-606ae6e4b69d"
      },
      "execution_count": 24,
      "outputs": [
        {
          "output_type": "execute_result",
          "data": {
            "text/plain": [
              "ResNet(\n",
              "  (conv1): Conv2d(3, 64, kernel_size=(7, 7), stride=(2, 2), padding=(3, 3), bias=False)\n",
              "  (bn1): BatchNorm2d(64, eps=1e-05, momentum=0.1, affine=True, track_running_stats=True)\n",
              "  (relu): ReLU(inplace=True)\n",
              "  (maxpool): MaxPool2d(kernel_size=3, stride=2, padding=1, dilation=1, ceil_mode=False)\n",
              "  (layer1): Sequential(\n",
              "    (0): BasicBlock(\n",
              "      (conv1): Conv2d(64, 64, kernel_size=(3, 3), stride=(1, 1), padding=(1, 1), bias=False)\n",
              "      (bn1): BatchNorm2d(64, eps=1e-05, momentum=0.1, affine=True, track_running_stats=True)\n",
              "      (relu): ReLU(inplace=True)\n",
              "      (conv2): Conv2d(64, 64, kernel_size=(3, 3), stride=(1, 1), padding=(1, 1), bias=False)\n",
              "      (bn2): BatchNorm2d(64, eps=1e-05, momentum=0.1, affine=True, track_running_stats=True)\n",
              "    )\n",
              "    (1): BasicBlock(\n",
              "      (conv1): Conv2d(64, 64, kernel_size=(3, 3), stride=(1, 1), padding=(1, 1), bias=False)\n",
              "      (bn1): BatchNorm2d(64, eps=1e-05, momentum=0.1, affine=True, track_running_stats=True)\n",
              "      (relu): ReLU(inplace=True)\n",
              "      (conv2): Conv2d(64, 64, kernel_size=(3, 3), stride=(1, 1), padding=(1, 1), bias=False)\n",
              "      (bn2): BatchNorm2d(64, eps=1e-05, momentum=0.1, affine=True, track_running_stats=True)\n",
              "    )\n",
              "    (2): BasicBlock(\n",
              "      (conv1): Conv2d(64, 64, kernel_size=(3, 3), stride=(1, 1), padding=(1, 1), bias=False)\n",
              "      (bn1): BatchNorm2d(64, eps=1e-05, momentum=0.1, affine=True, track_running_stats=True)\n",
              "      (relu): ReLU(inplace=True)\n",
              "      (conv2): Conv2d(64, 64, kernel_size=(3, 3), stride=(1, 1), padding=(1, 1), bias=False)\n",
              "      (bn2): BatchNorm2d(64, eps=1e-05, momentum=0.1, affine=True, track_running_stats=True)\n",
              "    )\n",
              "  )\n",
              "  (layer2): Sequential(\n",
              "    (0): BasicBlock(\n",
              "      (conv1): Conv2d(64, 128, kernel_size=(3, 3), stride=(2, 2), padding=(1, 1), bias=False)\n",
              "      (bn1): BatchNorm2d(128, eps=1e-05, momentum=0.1, affine=True, track_running_stats=True)\n",
              "      (relu): ReLU(inplace=True)\n",
              "      (conv2): Conv2d(128, 128, kernel_size=(3, 3), stride=(1, 1), padding=(1, 1), bias=False)\n",
              "      (bn2): BatchNorm2d(128, eps=1e-05, momentum=0.1, affine=True, track_running_stats=True)\n",
              "      (downsample): Sequential(\n",
              "        (0): Conv2d(64, 128, kernel_size=(1, 1), stride=(2, 2), bias=False)\n",
              "        (1): BatchNorm2d(128, eps=1e-05, momentum=0.1, affine=True, track_running_stats=True)\n",
              "      )\n",
              "    )\n",
              "    (1): BasicBlock(\n",
              "      (conv1): Conv2d(128, 128, kernel_size=(3, 3), stride=(1, 1), padding=(1, 1), bias=False)\n",
              "      (bn1): BatchNorm2d(128, eps=1e-05, momentum=0.1, affine=True, track_running_stats=True)\n",
              "      (relu): ReLU(inplace=True)\n",
              "      (conv2): Conv2d(128, 128, kernel_size=(3, 3), stride=(1, 1), padding=(1, 1), bias=False)\n",
              "      (bn2): BatchNorm2d(128, eps=1e-05, momentum=0.1, affine=True, track_running_stats=True)\n",
              "    )\n",
              "    (2): BasicBlock(\n",
              "      (conv1): Conv2d(128, 128, kernel_size=(3, 3), stride=(1, 1), padding=(1, 1), bias=False)\n",
              "      (bn1): BatchNorm2d(128, eps=1e-05, momentum=0.1, affine=True, track_running_stats=True)\n",
              "      (relu): ReLU(inplace=True)\n",
              "      (conv2): Conv2d(128, 128, kernel_size=(3, 3), stride=(1, 1), padding=(1, 1), bias=False)\n",
              "      (bn2): BatchNorm2d(128, eps=1e-05, momentum=0.1, affine=True, track_running_stats=True)\n",
              "    )\n",
              "    (3): BasicBlock(\n",
              "      (conv1): Conv2d(128, 128, kernel_size=(3, 3), stride=(1, 1), padding=(1, 1), bias=False)\n",
              "      (bn1): BatchNorm2d(128, eps=1e-05, momentum=0.1, affine=True, track_running_stats=True)\n",
              "      (relu): ReLU(inplace=True)\n",
              "      (conv2): Conv2d(128, 128, kernel_size=(3, 3), stride=(1, 1), padding=(1, 1), bias=False)\n",
              "      (bn2): BatchNorm2d(128, eps=1e-05, momentum=0.1, affine=True, track_running_stats=True)\n",
              "    )\n",
              "  )\n",
              "  (layer3): Sequential(\n",
              "    (0): BasicBlock(\n",
              "      (conv1): Conv2d(128, 256, kernel_size=(3, 3), stride=(2, 2), padding=(1, 1), bias=False)\n",
              "      (bn1): BatchNorm2d(256, eps=1e-05, momentum=0.1, affine=True, track_running_stats=True)\n",
              "      (relu): ReLU(inplace=True)\n",
              "      (conv2): Conv2d(256, 256, kernel_size=(3, 3), stride=(1, 1), padding=(1, 1), bias=False)\n",
              "      (bn2): BatchNorm2d(256, eps=1e-05, momentum=0.1, affine=True, track_running_stats=True)\n",
              "      (downsample): Sequential(\n",
              "        (0): Conv2d(128, 256, kernel_size=(1, 1), stride=(2, 2), bias=False)\n",
              "        (1): BatchNorm2d(256, eps=1e-05, momentum=0.1, affine=True, track_running_stats=True)\n",
              "      )\n",
              "    )\n",
              "    (1): BasicBlock(\n",
              "      (conv1): Conv2d(256, 256, kernel_size=(3, 3), stride=(1, 1), padding=(1, 1), bias=False)\n",
              "      (bn1): BatchNorm2d(256, eps=1e-05, momentum=0.1, affine=True, track_running_stats=True)\n",
              "      (relu): ReLU(inplace=True)\n",
              "      (conv2): Conv2d(256, 256, kernel_size=(3, 3), stride=(1, 1), padding=(1, 1), bias=False)\n",
              "      (bn2): BatchNorm2d(256, eps=1e-05, momentum=0.1, affine=True, track_running_stats=True)\n",
              "    )\n",
              "    (2): BasicBlock(\n",
              "      (conv1): Conv2d(256, 256, kernel_size=(3, 3), stride=(1, 1), padding=(1, 1), bias=False)\n",
              "      (bn1): BatchNorm2d(256, eps=1e-05, momentum=0.1, affine=True, track_running_stats=True)\n",
              "      (relu): ReLU(inplace=True)\n",
              "      (conv2): Conv2d(256, 256, kernel_size=(3, 3), stride=(1, 1), padding=(1, 1), bias=False)\n",
              "      (bn2): BatchNorm2d(256, eps=1e-05, momentum=0.1, affine=True, track_running_stats=True)\n",
              "    )\n",
              "    (3): BasicBlock(\n",
              "      (conv1): Conv2d(256, 256, kernel_size=(3, 3), stride=(1, 1), padding=(1, 1), bias=False)\n",
              "      (bn1): BatchNorm2d(256, eps=1e-05, momentum=0.1, affine=True, track_running_stats=True)\n",
              "      (relu): ReLU(inplace=True)\n",
              "      (conv2): Conv2d(256, 256, kernel_size=(3, 3), stride=(1, 1), padding=(1, 1), bias=False)\n",
              "      (bn2): BatchNorm2d(256, eps=1e-05, momentum=0.1, affine=True, track_running_stats=True)\n",
              "    )\n",
              "    (4): BasicBlock(\n",
              "      (conv1): Conv2d(256, 256, kernel_size=(3, 3), stride=(1, 1), padding=(1, 1), bias=False)\n",
              "      (bn1): BatchNorm2d(256, eps=1e-05, momentum=0.1, affine=True, track_running_stats=True)\n",
              "      (relu): ReLU(inplace=True)\n",
              "      (conv2): Conv2d(256, 256, kernel_size=(3, 3), stride=(1, 1), padding=(1, 1), bias=False)\n",
              "      (bn2): BatchNorm2d(256, eps=1e-05, momentum=0.1, affine=True, track_running_stats=True)\n",
              "    )\n",
              "    (5): BasicBlock(\n",
              "      (conv1): Conv2d(256, 256, kernel_size=(3, 3), stride=(1, 1), padding=(1, 1), bias=False)\n",
              "      (bn1): BatchNorm2d(256, eps=1e-05, momentum=0.1, affine=True, track_running_stats=True)\n",
              "      (relu): ReLU(inplace=True)\n",
              "      (conv2): Conv2d(256, 256, kernel_size=(3, 3), stride=(1, 1), padding=(1, 1), bias=False)\n",
              "      (bn2): BatchNorm2d(256, eps=1e-05, momentum=0.1, affine=True, track_running_stats=True)\n",
              "    )\n",
              "  )\n",
              "  (layer4): Sequential(\n",
              "    (0): BasicBlock(\n",
              "      (conv1): Conv2d(256, 512, kernel_size=(3, 3), stride=(2, 2), padding=(1, 1), bias=False)\n",
              "      (bn1): BatchNorm2d(512, eps=1e-05, momentum=0.1, affine=True, track_running_stats=True)\n",
              "      (relu): ReLU(inplace=True)\n",
              "      (conv2): Conv2d(512, 512, kernel_size=(3, 3), stride=(1, 1), padding=(1, 1), bias=False)\n",
              "      (bn2): BatchNorm2d(512, eps=1e-05, momentum=0.1, affine=True, track_running_stats=True)\n",
              "      (downsample): Sequential(\n",
              "        (0): Conv2d(256, 512, kernel_size=(1, 1), stride=(2, 2), bias=False)\n",
              "        (1): BatchNorm2d(512, eps=1e-05, momentum=0.1, affine=True, track_running_stats=True)\n",
              "      )\n",
              "    )\n",
              "    (1): BasicBlock(\n",
              "      (conv1): Conv2d(512, 512, kernel_size=(3, 3), stride=(1, 1), padding=(1, 1), bias=False)\n",
              "      (bn1): BatchNorm2d(512, eps=1e-05, momentum=0.1, affine=True, track_running_stats=True)\n",
              "      (relu): ReLU(inplace=True)\n",
              "      (conv2): Conv2d(512, 512, kernel_size=(3, 3), stride=(1, 1), padding=(1, 1), bias=False)\n",
              "      (bn2): BatchNorm2d(512, eps=1e-05, momentum=0.1, affine=True, track_running_stats=True)\n",
              "    )\n",
              "    (2): BasicBlock(\n",
              "      (conv1): Conv2d(512, 512, kernel_size=(3, 3), stride=(1, 1), padding=(1, 1), bias=False)\n",
              "      (bn1): BatchNorm2d(512, eps=1e-05, momentum=0.1, affine=True, track_running_stats=True)\n",
              "      (relu): ReLU(inplace=True)\n",
              "      (conv2): Conv2d(512, 512, kernel_size=(3, 3), stride=(1, 1), padding=(1, 1), bias=False)\n",
              "      (bn2): BatchNorm2d(512, eps=1e-05, momentum=0.1, affine=True, track_running_stats=True)\n",
              "    )\n",
              "  )\n",
              "  (avgpool): AdaptiveAvgPool2d(output_size=(1, 1))\n",
              "  (fc): Linear(in_features=512, out_features=2, bias=True)\n",
              ")"
            ]
          },
          "metadata": {},
          "execution_count": 24
        }
      ]
    },
    {
      "cell_type": "code",
      "source": [
        "optimizer = optim.Adam(resnet34.parameters(), 0.001)\n",
        "loss_fn = nn.CrossEntropyLoss()"
      ],
      "metadata": {
        "id": "PCTHHhKVxOuZ"
      },
      "execution_count": 25,
      "outputs": []
    },
    {
      "cell_type": "code",
      "source": [
        "epoch = 10\n",
        "\n",
        "for ep in range(epoch):\n",
        "\n",
        "  tr_acc = 0\n",
        "  tr_loss = 0\n",
        "  val_acc = 0\n",
        "  val_loss = 0\n",
        "\n",
        "  for i, data in enumerate(train_loader):\n",
        "    resnet34.train()\n",
        "\n",
        "    img, label = data\n",
        "    img = img.to(device)\n",
        "    label = label.to(device)\n",
        "\n",
        "    out = resnet34(img)\n",
        "    pred = torch.argmax(out, dim=1)\n",
        "\n",
        "    loss = loss_fn(out, label)\n",
        "    tr_loss += loss\n",
        "    tr_acc += (pred == label).sum().item()\n",
        "\n",
        "    optimizer.zero_grad()\n",
        "    loss.backward()\n",
        "    optimizer.step()\n",
        "\n",
        "  resnet34.eval()\n",
        "  with torch.no_grad():\n",
        "    for i, data in enumerate(val_loader):\n",
        "      img, label = data\n",
        "      img = img.to(device)\n",
        "      label = label.to(device)\n",
        "\n",
        "      out = resnet34(img)\n",
        "      pred = torch.argmax(out, dim=1)\n",
        "\n",
        "      val_loss += loss_fn(out, label)\n",
        "      val_acc += (pred == label).sum().item()\n",
        "\n",
        "  print(\"Epoch: {},  train_acc: {:.4f}, train_loss: {:.4f}, val_acc: {:.4f}, val_loss: {:.4f}\"\\\n",
        "        .format(ep+1, (tr_acc/len(train)), tr_loss, (val_acc/len(val)), val_loss))"
      ],
      "metadata": {
        "id": "CiEzRi4txSl5",
        "colab": {
          "base_uri": "https://localhost:8080/"
        },
        "outputId": "b5bf0a9c-a234-4a7e-e472-d64a8bda7299"
      },
      "execution_count": 26,
      "outputs": [
        {
          "output_type": "stream",
          "name": "stdout",
          "text": [
            "Epoch: 1,  train_acc: 0.8826, train_loss: 30.1310, val_acc: 0.8832, val_loss: 7.9402\n",
            "Epoch: 2,  train_acc: 0.8888, train_loss: 26.4383, val_acc: 0.9194, val_loss: 5.3239\n",
            "Epoch: 3,  train_acc: 0.9427, train_loss: 14.9419, val_acc: 0.8788, val_loss: 7.5553\n",
            "Epoch: 4,  train_acc: 0.9575, train_loss: 10.4377, val_acc: 0.9394, val_loss: 3.9227\n",
            "Epoch: 5,  train_acc: 0.9635, train_loss: 9.1897, val_acc: 0.9250, val_loss: 5.1778\n",
            "Epoch: 6,  train_acc: 0.9731, train_loss: 7.8594, val_acc: 0.9176, val_loss: 5.5459\n",
            "Epoch: 7,  train_acc: 0.9725, train_loss: 7.3081, val_acc: 0.9219, val_loss: 4.9588\n",
            "Epoch: 8,  train_acc: 0.9838, train_loss: 4.6853, val_acc: 0.9457, val_loss: 4.4778\n",
            "Epoch: 9,  train_acc: 0.9845, train_loss: 4.1223, val_acc: 0.9182, val_loss: 7.1058\n",
            "Epoch: 10,  train_acc: 0.9744, train_loss: 9.6952, val_acc: 0.8526, val_loss: 9.2845\n"
          ]
        }
      ]
    },
    {
      "cell_type": "markdown",
      "source": [
        "ResNet34 (fine tuning o)"
      ],
      "metadata": {
        "id": "o-zilyvjxtUw"
      }
    },
    {
      "cell_type": "code",
      "source": [
        "from torchvision import models\n",
        "import torch\n",
        "\n",
        "resnet34_fr = models.resnet34(pretrained=True)\n",
        "\n",
        "num_ftrs = resnet34_fr.fc.in_features\n",
        "resnet34_fr.fc = nn.Linear(num_ftrs, 2)\n",
        "\n",
        "#fc layer 빼고 프리징\n",
        "for name, param in resnet34_fr.named_parameters():\n",
        "    if name.startswith(\"fc\"):\n",
        "        continue\n",
        "    param.requires_grad = False\n",
        "\n",
        "resnet34_fr.to(device)"
      ],
      "metadata": {
        "colab": {
          "base_uri": "https://localhost:8080/"
        },
        "id": "N5UYpF1PxwRw",
        "outputId": "33426c10-7835-4940-c926-99966ab175d4"
      },
      "execution_count": 27,
      "outputs": [
        {
          "output_type": "stream",
          "name": "stderr",
          "text": [
            "/usr/local/lib/python3.8/dist-packages/torchvision/models/_utils.py:208: UserWarning: The parameter 'pretrained' is deprecated since 0.13 and may be removed in the future, please use 'weights' instead.\n",
            "  warnings.warn(\n",
            "/usr/local/lib/python3.8/dist-packages/torchvision/models/_utils.py:223: UserWarning: Arguments other than a weight enum or `None` for 'weights' are deprecated since 0.13 and may be removed in the future. The current behavior is equivalent to passing `weights=ResNet34_Weights.IMAGENET1K_V1`. You can also use `weights=ResNet34_Weights.DEFAULT` to get the most up-to-date weights.\n",
            "  warnings.warn(msg)\n"
          ]
        },
        {
          "output_type": "execute_result",
          "data": {
            "text/plain": [
              "ResNet(\n",
              "  (conv1): Conv2d(3, 64, kernel_size=(7, 7), stride=(2, 2), padding=(3, 3), bias=False)\n",
              "  (bn1): BatchNorm2d(64, eps=1e-05, momentum=0.1, affine=True, track_running_stats=True)\n",
              "  (relu): ReLU(inplace=True)\n",
              "  (maxpool): MaxPool2d(kernel_size=3, stride=2, padding=1, dilation=1, ceil_mode=False)\n",
              "  (layer1): Sequential(\n",
              "    (0): BasicBlock(\n",
              "      (conv1): Conv2d(64, 64, kernel_size=(3, 3), stride=(1, 1), padding=(1, 1), bias=False)\n",
              "      (bn1): BatchNorm2d(64, eps=1e-05, momentum=0.1, affine=True, track_running_stats=True)\n",
              "      (relu): ReLU(inplace=True)\n",
              "      (conv2): Conv2d(64, 64, kernel_size=(3, 3), stride=(1, 1), padding=(1, 1), bias=False)\n",
              "      (bn2): BatchNorm2d(64, eps=1e-05, momentum=0.1, affine=True, track_running_stats=True)\n",
              "    )\n",
              "    (1): BasicBlock(\n",
              "      (conv1): Conv2d(64, 64, kernel_size=(3, 3), stride=(1, 1), padding=(1, 1), bias=False)\n",
              "      (bn1): BatchNorm2d(64, eps=1e-05, momentum=0.1, affine=True, track_running_stats=True)\n",
              "      (relu): ReLU(inplace=True)\n",
              "      (conv2): Conv2d(64, 64, kernel_size=(3, 3), stride=(1, 1), padding=(1, 1), bias=False)\n",
              "      (bn2): BatchNorm2d(64, eps=1e-05, momentum=0.1, affine=True, track_running_stats=True)\n",
              "    )\n",
              "    (2): BasicBlock(\n",
              "      (conv1): Conv2d(64, 64, kernel_size=(3, 3), stride=(1, 1), padding=(1, 1), bias=False)\n",
              "      (bn1): BatchNorm2d(64, eps=1e-05, momentum=0.1, affine=True, track_running_stats=True)\n",
              "      (relu): ReLU(inplace=True)\n",
              "      (conv2): Conv2d(64, 64, kernel_size=(3, 3), stride=(1, 1), padding=(1, 1), bias=False)\n",
              "      (bn2): BatchNorm2d(64, eps=1e-05, momentum=0.1, affine=True, track_running_stats=True)\n",
              "    )\n",
              "  )\n",
              "  (layer2): Sequential(\n",
              "    (0): BasicBlock(\n",
              "      (conv1): Conv2d(64, 128, kernel_size=(3, 3), stride=(2, 2), padding=(1, 1), bias=False)\n",
              "      (bn1): BatchNorm2d(128, eps=1e-05, momentum=0.1, affine=True, track_running_stats=True)\n",
              "      (relu): ReLU(inplace=True)\n",
              "      (conv2): Conv2d(128, 128, kernel_size=(3, 3), stride=(1, 1), padding=(1, 1), bias=False)\n",
              "      (bn2): BatchNorm2d(128, eps=1e-05, momentum=0.1, affine=True, track_running_stats=True)\n",
              "      (downsample): Sequential(\n",
              "        (0): Conv2d(64, 128, kernel_size=(1, 1), stride=(2, 2), bias=False)\n",
              "        (1): BatchNorm2d(128, eps=1e-05, momentum=0.1, affine=True, track_running_stats=True)\n",
              "      )\n",
              "    )\n",
              "    (1): BasicBlock(\n",
              "      (conv1): Conv2d(128, 128, kernel_size=(3, 3), stride=(1, 1), padding=(1, 1), bias=False)\n",
              "      (bn1): BatchNorm2d(128, eps=1e-05, momentum=0.1, affine=True, track_running_stats=True)\n",
              "      (relu): ReLU(inplace=True)\n",
              "      (conv2): Conv2d(128, 128, kernel_size=(3, 3), stride=(1, 1), padding=(1, 1), bias=False)\n",
              "      (bn2): BatchNorm2d(128, eps=1e-05, momentum=0.1, affine=True, track_running_stats=True)\n",
              "    )\n",
              "    (2): BasicBlock(\n",
              "      (conv1): Conv2d(128, 128, kernel_size=(3, 3), stride=(1, 1), padding=(1, 1), bias=False)\n",
              "      (bn1): BatchNorm2d(128, eps=1e-05, momentum=0.1, affine=True, track_running_stats=True)\n",
              "      (relu): ReLU(inplace=True)\n",
              "      (conv2): Conv2d(128, 128, kernel_size=(3, 3), stride=(1, 1), padding=(1, 1), bias=False)\n",
              "      (bn2): BatchNorm2d(128, eps=1e-05, momentum=0.1, affine=True, track_running_stats=True)\n",
              "    )\n",
              "    (3): BasicBlock(\n",
              "      (conv1): Conv2d(128, 128, kernel_size=(3, 3), stride=(1, 1), padding=(1, 1), bias=False)\n",
              "      (bn1): BatchNorm2d(128, eps=1e-05, momentum=0.1, affine=True, track_running_stats=True)\n",
              "      (relu): ReLU(inplace=True)\n",
              "      (conv2): Conv2d(128, 128, kernel_size=(3, 3), stride=(1, 1), padding=(1, 1), bias=False)\n",
              "      (bn2): BatchNorm2d(128, eps=1e-05, momentum=0.1, affine=True, track_running_stats=True)\n",
              "    )\n",
              "  )\n",
              "  (layer3): Sequential(\n",
              "    (0): BasicBlock(\n",
              "      (conv1): Conv2d(128, 256, kernel_size=(3, 3), stride=(2, 2), padding=(1, 1), bias=False)\n",
              "      (bn1): BatchNorm2d(256, eps=1e-05, momentum=0.1, affine=True, track_running_stats=True)\n",
              "      (relu): ReLU(inplace=True)\n",
              "      (conv2): Conv2d(256, 256, kernel_size=(3, 3), stride=(1, 1), padding=(1, 1), bias=False)\n",
              "      (bn2): BatchNorm2d(256, eps=1e-05, momentum=0.1, affine=True, track_running_stats=True)\n",
              "      (downsample): Sequential(\n",
              "        (0): Conv2d(128, 256, kernel_size=(1, 1), stride=(2, 2), bias=False)\n",
              "        (1): BatchNorm2d(256, eps=1e-05, momentum=0.1, affine=True, track_running_stats=True)\n",
              "      )\n",
              "    )\n",
              "    (1): BasicBlock(\n",
              "      (conv1): Conv2d(256, 256, kernel_size=(3, 3), stride=(1, 1), padding=(1, 1), bias=False)\n",
              "      (bn1): BatchNorm2d(256, eps=1e-05, momentum=0.1, affine=True, track_running_stats=True)\n",
              "      (relu): ReLU(inplace=True)\n",
              "      (conv2): Conv2d(256, 256, kernel_size=(3, 3), stride=(1, 1), padding=(1, 1), bias=False)\n",
              "      (bn2): BatchNorm2d(256, eps=1e-05, momentum=0.1, affine=True, track_running_stats=True)\n",
              "    )\n",
              "    (2): BasicBlock(\n",
              "      (conv1): Conv2d(256, 256, kernel_size=(3, 3), stride=(1, 1), padding=(1, 1), bias=False)\n",
              "      (bn1): BatchNorm2d(256, eps=1e-05, momentum=0.1, affine=True, track_running_stats=True)\n",
              "      (relu): ReLU(inplace=True)\n",
              "      (conv2): Conv2d(256, 256, kernel_size=(3, 3), stride=(1, 1), padding=(1, 1), bias=False)\n",
              "      (bn2): BatchNorm2d(256, eps=1e-05, momentum=0.1, affine=True, track_running_stats=True)\n",
              "    )\n",
              "    (3): BasicBlock(\n",
              "      (conv1): Conv2d(256, 256, kernel_size=(3, 3), stride=(1, 1), padding=(1, 1), bias=False)\n",
              "      (bn1): BatchNorm2d(256, eps=1e-05, momentum=0.1, affine=True, track_running_stats=True)\n",
              "      (relu): ReLU(inplace=True)\n",
              "      (conv2): Conv2d(256, 256, kernel_size=(3, 3), stride=(1, 1), padding=(1, 1), bias=False)\n",
              "      (bn2): BatchNorm2d(256, eps=1e-05, momentum=0.1, affine=True, track_running_stats=True)\n",
              "    )\n",
              "    (4): BasicBlock(\n",
              "      (conv1): Conv2d(256, 256, kernel_size=(3, 3), stride=(1, 1), padding=(1, 1), bias=False)\n",
              "      (bn1): BatchNorm2d(256, eps=1e-05, momentum=0.1, affine=True, track_running_stats=True)\n",
              "      (relu): ReLU(inplace=True)\n",
              "      (conv2): Conv2d(256, 256, kernel_size=(3, 3), stride=(1, 1), padding=(1, 1), bias=False)\n",
              "      (bn2): BatchNorm2d(256, eps=1e-05, momentum=0.1, affine=True, track_running_stats=True)\n",
              "    )\n",
              "    (5): BasicBlock(\n",
              "      (conv1): Conv2d(256, 256, kernel_size=(3, 3), stride=(1, 1), padding=(1, 1), bias=False)\n",
              "      (bn1): BatchNorm2d(256, eps=1e-05, momentum=0.1, affine=True, track_running_stats=True)\n",
              "      (relu): ReLU(inplace=True)\n",
              "      (conv2): Conv2d(256, 256, kernel_size=(3, 3), stride=(1, 1), padding=(1, 1), bias=False)\n",
              "      (bn2): BatchNorm2d(256, eps=1e-05, momentum=0.1, affine=True, track_running_stats=True)\n",
              "    )\n",
              "  )\n",
              "  (layer4): Sequential(\n",
              "    (0): BasicBlock(\n",
              "      (conv1): Conv2d(256, 512, kernel_size=(3, 3), stride=(2, 2), padding=(1, 1), bias=False)\n",
              "      (bn1): BatchNorm2d(512, eps=1e-05, momentum=0.1, affine=True, track_running_stats=True)\n",
              "      (relu): ReLU(inplace=True)\n",
              "      (conv2): Conv2d(512, 512, kernel_size=(3, 3), stride=(1, 1), padding=(1, 1), bias=False)\n",
              "      (bn2): BatchNorm2d(512, eps=1e-05, momentum=0.1, affine=True, track_running_stats=True)\n",
              "      (downsample): Sequential(\n",
              "        (0): Conv2d(256, 512, kernel_size=(1, 1), stride=(2, 2), bias=False)\n",
              "        (1): BatchNorm2d(512, eps=1e-05, momentum=0.1, affine=True, track_running_stats=True)\n",
              "      )\n",
              "    )\n",
              "    (1): BasicBlock(\n",
              "      (conv1): Conv2d(512, 512, kernel_size=(3, 3), stride=(1, 1), padding=(1, 1), bias=False)\n",
              "      (bn1): BatchNorm2d(512, eps=1e-05, momentum=0.1, affine=True, track_running_stats=True)\n",
              "      (relu): ReLU(inplace=True)\n",
              "      (conv2): Conv2d(512, 512, kernel_size=(3, 3), stride=(1, 1), padding=(1, 1), bias=False)\n",
              "      (bn2): BatchNorm2d(512, eps=1e-05, momentum=0.1, affine=True, track_running_stats=True)\n",
              "    )\n",
              "    (2): BasicBlock(\n",
              "      (conv1): Conv2d(512, 512, kernel_size=(3, 3), stride=(1, 1), padding=(1, 1), bias=False)\n",
              "      (bn1): BatchNorm2d(512, eps=1e-05, momentum=0.1, affine=True, track_running_stats=True)\n",
              "      (relu): ReLU(inplace=True)\n",
              "      (conv2): Conv2d(512, 512, kernel_size=(3, 3), stride=(1, 1), padding=(1, 1), bias=False)\n",
              "      (bn2): BatchNorm2d(512, eps=1e-05, momentum=0.1, affine=True, track_running_stats=True)\n",
              "    )\n",
              "  )\n",
              "  (avgpool): AdaptiveAvgPool2d(output_size=(1, 1))\n",
              "  (fc): Linear(in_features=512, out_features=2, bias=True)\n",
              ")"
            ]
          },
          "metadata": {},
          "execution_count": 27
        }
      ]
    },
    {
      "cell_type": "code",
      "source": [
        "optimizer = optim.Adam(resnet34_fr.parameters(), 0.001)\n",
        "loss_fn = nn.CrossEntropyLoss()"
      ],
      "metadata": {
        "id": "I9Q-NhwQzcwQ"
      },
      "execution_count": 28,
      "outputs": []
    },
    {
      "cell_type": "code",
      "source": [
        "epoch = 10\n",
        "\n",
        "for ep in range(epoch):\n",
        "\n",
        "  tr_acc = 0\n",
        "  tr_loss = 0\n",
        "  val_acc = 0\n",
        "  val_loss = 0\n",
        "\n",
        "  for i, data in enumerate(train_loader):\n",
        "    resnet34_fr.train()\n",
        "\n",
        "    img, label = data\n",
        "    img = img.to(device)\n",
        "    label = label.to(device)\n",
        "\n",
        "    out = resnet34_fr(img)\n",
        "    pred = torch.argmax(out, dim=1)\n",
        "\n",
        "    loss = loss_fn(out, label)\n",
        "    tr_loss += loss\n",
        "    tr_acc += (pred == label).sum().item()\n",
        "\n",
        "    optimizer.zero_grad()\n",
        "    loss.backward()\n",
        "    optimizer.step()\n",
        "\n",
        "  resnet34_fr.eval()\n",
        "  with torch.no_grad():\n",
        "    for i, data in enumerate(val_loader):\n",
        "      img, label = data\n",
        "      img = img.to(device)\n",
        "      label = label.to(device)\n",
        "\n",
        "      out = resnet34_fr(img)\n",
        "      pred = torch.argmax(out, dim=1)\n",
        "\n",
        "      val_loss += loss_fn(out, label)\n",
        "      val_acc += (pred == label).sum().item()\n",
        "\n",
        "  print(\"Epoch: {},  train_acc: {:.4f}, train_loss: {:.4f}, val_acc: {:.4f}, val_loss: {:.4f}\"\\\n",
        "        .format(ep+1, (tr_acc/len(train)), tr_loss, (val_acc/len(val)), val_loss))"
      ],
      "metadata": {
        "id": "NU9qtAoazkRQ",
        "colab": {
          "base_uri": "https://localhost:8080/"
        },
        "outputId": "dcc82853-b56e-48b8-82c0-cea43d64bae7"
      },
      "execution_count": 29,
      "outputs": [
        {
          "output_type": "stream",
          "name": "stdout",
          "text": [
            "Epoch: 1,  train_acc: 0.8627, train_loss: 30.4927, val_acc: 0.9101, val_loss: 5.8334\n",
            "Epoch: 2,  train_acc: 0.9093, train_loss: 21.4389, val_acc: 0.9176, val_loss: 5.2267\n",
            "Epoch: 3,  train_acc: 0.9097, train_loss: 20.7926, val_acc: 0.9182, val_loss: 5.1204\n",
            "Epoch: 4,  train_acc: 0.9160, train_loss: 19.0050, val_acc: 0.9188, val_loss: 4.8774\n",
            "Epoch: 5,  train_acc: 0.9219, train_loss: 19.1869, val_acc: 0.9176, val_loss: 4.8951\n",
            "Epoch: 6,  train_acc: 0.9222, train_loss: 20.1411, val_acc: 0.9176, val_loss: 4.8310\n",
            "Epoch: 7,  train_acc: 0.9199, train_loss: 18.4678, val_acc: 0.9257, val_loss: 4.6637\n",
            "Epoch: 8,  train_acc: 0.9297, train_loss: 16.9508, val_acc: 0.9232, val_loss: 4.6234\n",
            "Epoch: 9,  train_acc: 0.9254, train_loss: 17.5478, val_acc: 0.9219, val_loss: 6.9480\n",
            "Epoch: 10,  train_acc: 0.9290, train_loss: 17.0707, val_acc: 0.9207, val_loss: 5.2066\n"
          ]
        }
      ]
    }
  ]
}
