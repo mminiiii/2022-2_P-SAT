{
 "cells": [
  {
   "cell_type": "code",
   "execution_count": 1,
   "id": "91eae19d",
   "metadata": {},
   "outputs": [],
   "source": [
    "from selenium import webdriver\n",
    "from selenium.webdriver.common.by import By\n",
    "import time\n",
    "import os\n",
    "import pickle\n",
    "import pandas as pd\n",
    "import numpy as np"
   ]
  },
  {
   "cell_type": "code",
   "execution_count": 2,
   "id": "c345c313",
   "metadata": {},
   "outputs": [
    {
     "name": "stderr",
     "output_type": "stream",
     "text": [
      "<ipython-input-2-67702225d9b6>:2: DeprecationWarning: executable_path has been deprecated, please pass in a Service object\n",
      "  driver = webdriver.Chrome(\"C:/Users/USER/Desktop/대학/기타/ipynb/chromedriver.exe\")\n"
     ]
    }
   ],
   "source": [
    "#크롬 드라이버 열기\n",
    "driver = webdriver.Chrome(\"C:/Users/USER/Desktop/대학/기타/ipynb/chromedriver.exe\")\n",
    "\n",
    "#국립국어원 국어의 로마자 표기 예시 페이지 열기\n",
    "driver.get('https://kornorms.korean.go.kr/m/m_exampleList.do?regltn_code=0004')"
   ]
  },
  {
   "cell_type": "code",
   "execution_count": 3,
   "id": "a376b22e",
   "metadata": {},
   "outputs": [],
   "source": [
    "kor = []\n",
    "eng = []\n",
    "\n",
    "now = 0\n",
    "first_pg = 0\n",
    "second_pg = 1\n",
    "\n",
    "for i in range(1285):\n",
    "    \n",
    "    time.sleep(3) #페이지 뜰 때까지 좀 기다리기\n",
    "    \n",
    "    #현재 페이지에 있는 단어 참조하기\n",
    "    k = driver.find_elements(by=By.CSS_SELECTOR, value='td:nth-child(2) > a')\n",
    "    e = driver.find_elements(by=By.CSS_SELECTOR, value='td:nth-child(3)')\n",
    "     \n",
    "    #위에서 참조한 단어들 중에서 텍스트만 뽑아서 리스트에 넣어주기\n",
    "    for word in k:\n",
    "        ko = word.text\n",
    "        if ko == '':\n",
    "            continue\n",
    "        else:\n",
    "            kor.append(ko)\n",
    "\n",
    "    for word in e:\n",
    "        en = word.text\n",
    "        if en == '':\n",
    "            continue\n",
    "        else:\n",
    "            eng.append(en)\n",
    "     \n",
    "    #마지막 페이지면 페이지 더 넘기지 말고 반복문 종료\n",
    "    if i == 1284:\n",
    "        break\n",
    "\n",
    "    #마지막 페이지가 아니면 다음 페이지로\n",
    "    if now == first_pg:\n",
    "        second = driver.find_element(by=By.CSS_SELECTOR, value='div.paging > span:nth-child(4) > a')\n",
    "        second.click()\n",
    "        now += 1\n",
    "        first_pg += 3\n",
    "\n",
    "    elif now == second_pg:\n",
    "        third = driver.find_element(by=By.CSS_SELECTOR, value='div.paging > span:nth-child(5) > a')\n",
    "        third.click()\n",
    "        now += 1\n",
    "        second_pg += 3\n",
    "\n",
    "    else:\n",
    "        nnext = driver.find_element(by=By.CSS_SELECTOR, value='div.paging > span:nth-child(6) > a')\n",
    "        nnext.click()\n",
    "        now += 1"
   ]
  },
  {
   "cell_type": "code",
   "execution_count": 4,
   "id": "e12861ad",
   "metadata": {},
   "outputs": [
    {
     "data": {
      "text/plain": [
       "12846"
      ]
     },
     "execution_count": 4,
     "metadata": {},
     "output_type": "execute_result"
    }
   ],
   "source": [
    "len(kor)"
   ]
  },
  {
   "cell_type": "code",
   "execution_count": 5,
   "id": "83cdd98f",
   "metadata": {},
   "outputs": [
    {
     "data": {
      "text/plain": [
       "12846"
      ]
     },
     "execution_count": 5,
     "metadata": {},
     "output_type": "execute_result"
    }
   ],
   "source": [
    "len(eng)"
   ]
  },
  {
   "cell_type": "code",
   "execution_count": 6,
   "id": "5c34a906",
   "metadata": {},
   "outputs": [
    {
     "name": "stdout",
     "output_type": "stream",
     "text": [
      "11797 율란, 강란\n"
     ]
    }
   ],
   "source": [
    "for i, w in enumerate(kor):\n",
    "    if \",\" in w:\n",
    "        print(i, w)"
   ]
  },
  {
   "cell_type": "code",
   "execution_count": 7,
   "id": "9d4d8c68",
   "metadata": {},
   "outputs": [
    {
     "data": {
      "text/plain": [
       "(12845, 12845)"
      ]
     },
     "execution_count": 7,
     "metadata": {},
     "output_type": "execute_result"
    }
   ],
   "source": [
    "del kor[11797]\n",
    "del eng[11797]\n",
    "\n",
    "len(kor), len(eng)"
   ]
  },
  {
   "cell_type": "code",
   "execution_count": 8,
   "id": "17555259",
   "metadata": {},
   "outputs": [
    {
     "data": {
      "text/html": [
       "<div>\n",
       "<style scoped>\n",
       "    .dataframe tbody tr th:only-of-type {\n",
       "        vertical-align: middle;\n",
       "    }\n",
       "\n",
       "    .dataframe tbody tr th {\n",
       "        vertical-align: top;\n",
       "    }\n",
       "\n",
       "    .dataframe thead th {\n",
       "        text-align: right;\n",
       "    }\n",
       "</style>\n",
       "<table border=\"1\" class=\"dataframe\">\n",
       "  <thead>\n",
       "    <tr style=\"text-align: right;\">\n",
       "      <th></th>\n",
       "      <th>kor</th>\n",
       "      <th>eng</th>\n",
       "    </tr>\n",
       "  </thead>\n",
       "  <tbody>\n",
       "    <tr>\n",
       "      <th>0</th>\n",
       "      <td>가경동</td>\n",
       "      <td>Gagyeong-dong</td>\n",
       "    </tr>\n",
       "    <tr>\n",
       "      <th>1</th>\n",
       "      <td>가계</td>\n",
       "      <td>gagye</td>\n",
       "    </tr>\n",
       "    <tr>\n",
       "      <th>2</th>\n",
       "      <td>가곡</td>\n",
       "      <td>Gagok</td>\n",
       "    </tr>\n",
       "    <tr>\n",
       "      <th>3</th>\n",
       "      <td>가곡동</td>\n",
       "      <td>Gagok-dong</td>\n",
       "    </tr>\n",
       "    <tr>\n",
       "      <th>4</th>\n",
       "      <td>가곡면</td>\n",
       "      <td>Gagok-myeon</td>\n",
       "    </tr>\n",
       "    <tr>\n",
       "      <th>...</th>\n",
       "      <td>...</td>\n",
       "      <td>...</td>\n",
       "    </tr>\n",
       "    <tr>\n",
       "      <th>12840</th>\n",
       "      <td>효자동2가</td>\n",
       "      <td>Hyoja-dong 2(i)-ga</td>\n",
       "    </tr>\n",
       "    <tr>\n",
       "      <th>12841</th>\n",
       "      <td>효자동3가</td>\n",
       "      <td>Hyoja-dong 3(sam)-ga</td>\n",
       "    </tr>\n",
       "    <tr>\n",
       "      <th>12842</th>\n",
       "      <td>효자면</td>\n",
       "      <td>Hyoja-myeon</td>\n",
       "    </tr>\n",
       "    <tr>\n",
       "      <th>12843</th>\n",
       "      <td>고강본동</td>\n",
       "      <td>Gogangbon-dong</td>\n",
       "    </tr>\n",
       "    <tr>\n",
       "      <th>12844</th>\n",
       "      <td>경원동</td>\n",
       "      <td>Gyeongwon-dong</td>\n",
       "    </tr>\n",
       "  </tbody>\n",
       "</table>\n",
       "<p>12845 rows × 2 columns</p>\n",
       "</div>"
      ],
      "text/plain": [
       "         kor                   eng\n",
       "0        가경동         Gagyeong-dong\n",
       "1         가계                 gagye\n",
       "2         가곡                 Gagok\n",
       "3        가곡동            Gagok-dong\n",
       "4        가곡면           Gagok-myeon\n",
       "...      ...                   ...\n",
       "12840  효자동2가    Hyoja-dong 2(i)-ga\n",
       "12841  효자동3가  Hyoja-dong 3(sam)-ga\n",
       "12842    효자면           Hyoja-myeon\n",
       "12843   고강본동        Gogangbon-dong\n",
       "12844    경원동        Gyeongwon-dong\n",
       "\n",
       "[12845 rows x 2 columns]"
      ]
     },
     "execution_count": 8,
     "metadata": {},
     "output_type": "execute_result"
    }
   ],
   "source": [
    "propernoun = pd.DataFrame({'kor' : kor,\n",
    "                          'eng' : eng})\n",
    "propernoun"
   ]
  },
  {
   "cell_type": "code",
   "execution_count": 10,
   "id": "210aa71a",
   "metadata": {},
   "outputs": [],
   "source": [
    "propernoun.to_csv('propernoun.csv', encoding='utf-8-sig', index = False)"
   ]
  },
  {
   "cell_type": "markdown",
   "id": "431dd254",
   "metadata": {},
   "source": [
    "### 코드 조각"
   ]
  },
  {
   "cell_type": "code",
   "execution_count": null,
   "id": "c561ccfa",
   "metadata": {},
   "outputs": [],
   "source": [
    "    #페이지 넘기기 (페이지 넘기기가 1,2,3,> 순서라서 각각 설정해줌)\n",
    "    if now == first_pg:\n",
    "        #버튼\n",
    "        second = driver.find_element(by=By.CSS_SELECTOR, value='div.paging > span:nth-child(4) > a')\n",
    "        \n",
    "    elif now == second_pg:\n",
    "        #버튼\n",
    "        third = driver.find_element(by=By.CSS_SELECTOR, value='div.paging > span:nth-child(5) > a')\n",
    "\n",
    "    else:\n",
    "        #화살표 버튼\n",
    "        nnext = driver.find_element(by=By.CSS_SELECTOR, value='div.paging > span:nth-child(6) > a')\n"
   ]
  },
  {
   "cell_type": "code",
   "execution_count": 29,
   "id": "df0ad344",
   "metadata": {},
   "outputs": [],
   "source": [
    "kor = []\n",
    "eng = []\n",
    "\n",
    "#단어 (현재 페이지에 있는 단어 전부)\n",
    "k = driver.find_elements(by=By.CSS_SELECTOR, value='td:nth-child(2) > a')\n",
    "e = driver.find_elements(by=By.CSS_SELECTOR, value='td:nth-child(3)')\n",
    "\n",
    "#버튼\n",
    "second = driver.find_element(by=By.CSS_SELECTOR, value='div.paging > span:nth-child(4) > a')\n",
    "third = driver.find_element(by=By.CSS_SELECTOR, value='div.paging > span:nth-child(5) > a')\n",
    "\n",
    "#화살표 버튼\n",
    "nnext = driver.find_element(by=By.CSS_SELECTOR, value='div.paging > span:nth-child(6) > a')"
   ]
  },
  {
   "cell_type": "code",
   "execution_count": null,
   "id": "2a6164d5",
   "metadata": {},
   "outputs": [],
   "source": [
    "# 0 1 2 / 3 4 5 / 6 7 8 / 9 10 11 / 12 13 14 / 15 16 17 / 18 19 20 / 21 22 23 / 24 25 26\n",
    "# 0 3 6 9 12\n",
    "# 1 4 7 10 13 16 19\n",
    "# 2 5 8 11 14 17 20 23 26"
   ]
  },
  {
   "cell_type": "code",
   "execution_count": null,
   "id": "66c01418",
   "metadata": {},
   "outputs": [],
   "source": [
    "#단어\n",
    "#listForm > div.boardList.group > table > tbody > tr:nth-child(1) > td:nth-child(2) > a\n",
    "#listForm > div.boardList.group > table > tbody > tr:nth-child(15) > td:nth-child(2) > a\n",
    "#listForm > div.boardList.group > table > tbody > tr:nth-child(9) > td:nth-child(2) > a\n",
    "#listForm > div.boardList.group > table > tbody > tr:nth-child(11) > td:nth-child(2) > a\n",
    "#listForm > div.boardList.group > table > tbody > tr:nth-child(7) > td:nth-child(2) > a\n",
    "#listForm > div.boardList.group > table > tbody > tr:nth-child(1) > td:nth-child(2) > a\n",
    "\n",
    "#listForm > div.boardList.group > table > tbody > tr:nth-child(5) > td:nth-child(3)\n",
    "#listForm > div.boardList.group > table > tbody > tr:nth-child(7) > td:nth-child(3)\n",
    "#listForm > div.boardList.group > table > tbody > tr:nth-child(7) > td:nth-child(3)\n",
    "\n",
    "#버튼\n",
    "#listForm > div.paging > span:nth-child(4) > a\n",
    "#listForm > div.paging > span:nth-child(5) > a\n",
    "#listForm > div.paging > span:nth-child(4) > a\n",
    "#listForm > div.paging > span:nth-child(4) > a\n",
    "#listForm > div.paging > span:nth-child(5) > a\n",
    "\n",
    "#화살표 버튼\n",
    "#listForm > div.paging > span:nth-child(6) > a\n",
    "#listForm > div.paging > span:nth-child(6) > a\n",
    "#listForm > div.paging > span:nth-child(6) > a"
   ]
  },
  {
   "cell_type": "code",
   "execution_count": 30,
   "id": "f045cf71",
   "metadata": {},
   "outputs": [
    {
     "data": {
      "text/plain": [
       "['가경동', '가계', '가곡', '가곡동', '가곡면', '가교비', '가금면', '가나안', '가남읍', '가남정']"
      ]
     },
     "execution_count": 30,
     "metadata": {},
     "output_type": "execute_result"
    }
   ],
   "source": [
    "for word in k:\n",
    "    ko = word.text\n",
    "    if ko == '':\n",
    "        continue\n",
    "    else:\n",
    "        kor.append(ko)\n",
    "        \n",
    "kor"
   ]
  },
  {
   "cell_type": "code",
   "execution_count": 31,
   "id": "7962d0c8",
   "metadata": {},
   "outputs": [
    {
     "data": {
      "text/plain": [
       "['Gagyeong-dong',\n",
       " 'gagye',\n",
       " 'Gagok',\n",
       " 'Gagok-dong',\n",
       " 'Gagok-myeon',\n",
       " 'Gagyobi',\n",
       " 'Gageum-myeon',\n",
       " 'Ganaan',\n",
       " 'Ganam-eup',\n",
       " 'Ganamjeong']"
      ]
     },
     "execution_count": 31,
     "metadata": {},
     "output_type": "execute_result"
    }
   ],
   "source": [
    "for word in e:\n",
    "    en = word.text\n",
    "    if en == '':\n",
    "        continue\n",
    "    else:\n",
    "        eng.append(en)\n",
    "        \n",
    "eng"
   ]
  },
  {
   "cell_type": "code",
   "execution_count": null,
   "id": "12119269",
   "metadata": {},
   "outputs": [],
   "source": []
  }
 ],
 "metadata": {
  "kernelspec": {
   "display_name": "Python 3",
   "language": "python",
   "name": "python3"
  },
  "language_info": {
   "codemirror_mode": {
    "name": "ipython",
    "version": 3
   },
   "file_extension": ".py",
   "mimetype": "text/x-python",
   "name": "python",
   "nbconvert_exporter": "python",
   "pygments_lexer": "ipython3",
   "version": "3.8.8"
  }
 },
 "nbformat": 4,
 "nbformat_minor": 5
}
