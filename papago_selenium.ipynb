{
 "cells": [
  {
   "cell_type": "code",
   "execution_count": 1,
   "id": "09fc852e",
   "metadata": {},
   "outputs": [],
   "source": [
    "from selenium import webdriver\n",
    "from selenium.webdriver.common.by import By\n",
    "import time\n",
    "import os\n",
    "import pickle\n",
    "import pandas as pd\n",
    "import numpy as np"
   ]
  },
  {
   "cell_type": "code",
   "execution_count": 2,
   "id": "48371740",
   "metadata": {},
   "outputs": [
    {
     "data": {
      "text/html": [
       "<div>\n",
       "<style scoped>\n",
       "    .dataframe tbody tr th:only-of-type {\n",
       "        vertical-align: middle;\n",
       "    }\n",
       "\n",
       "    .dataframe tbody tr th {\n",
       "        vertical-align: top;\n",
       "    }\n",
       "\n",
       "    .dataframe thead th {\n",
       "        text-align: right;\n",
       "    }\n",
       "</style>\n",
       "<table border=\"1\" class=\"dataframe\">\n",
       "  <thead>\n",
       "    <tr style=\"text-align: right;\">\n",
       "      <th></th>\n",
       "      <th>overview</th>\n",
       "      <th>cat1</th>\n",
       "      <th>cat2</th>\n",
       "      <th>cat3</th>\n",
       "      <th>translated</th>\n",
       "    </tr>\n",
       "  </thead>\n",
       "  <tbody>\n",
       "    <tr>\n",
       "      <th>0</th>\n",
       "      <td>소안항은 조용한 섬으로 인근해안이 청정해역으로 일찍이 김 양식을 해서 높은 소득을 ...</td>\n",
       "      <td>자연</td>\n",
       "      <td>자연관광지</td>\n",
       "      <td>항구/포구</td>\n",
       "      <td>None</td>\n",
       "    </tr>\n",
       "    <tr>\n",
       "      <th>1</th>\n",
       "      <td>경기도 이천시 모가면에 있는 골프장으로 대중제 18홀이다. 회원제로 개장을 했다가 ...</td>\n",
       "      <td>레포츠</td>\n",
       "      <td>육상 레포츠</td>\n",
       "      <td>골프</td>\n",
       "      <td>None</td>\n",
       "    </tr>\n",
       "    <tr>\n",
       "      <th>2</th>\n",
       "      <td>금오산성숯불갈비는 한우고기만을 전문적으로 취급하고 사용하는 부식 자재 또한 유기농법...</td>\n",
       "      <td>음식</td>\n",
       "      <td>음식점</td>\n",
       "      <td>한식</td>\n",
       "      <td>None</td>\n",
       "    </tr>\n",
       "    <tr>\n",
       "      <th>3</th>\n",
       "      <td>철판 위에서 요리하는 안동찜닭을 맛볼 수 있는 곳이다. 경상북도 안동시에 있는 한식...</td>\n",
       "      <td>음식</td>\n",
       "      <td>음식점</td>\n",
       "      <td>한식</td>\n",
       "      <td>None</td>\n",
       "    </tr>\n",
       "    <tr>\n",
       "      <th>4</th>\n",
       "      <td>※ 영업시간 10:30 ~ 20:30\\n\\n3대에 걸쳐 아귀만을 전문으로 취급하는 ...</td>\n",
       "      <td>음식</td>\n",
       "      <td>음식점</td>\n",
       "      <td>한식</td>\n",
       "      <td>None</td>\n",
       "    </tr>\n",
       "    <tr>\n",
       "      <th>...</th>\n",
       "      <td>...</td>\n",
       "      <td>...</td>\n",
       "      <td>...</td>\n",
       "      <td>...</td>\n",
       "      <td>...</td>\n",
       "    </tr>\n",
       "    <tr>\n",
       "      <th>16960</th>\n",
       "      <td>해발 12000m에 자리한 식담겸 카페점문점이다.&lt;br&gt;곤드레밥과 감자전을 판매하고...</td>\n",
       "      <td>음식</td>\n",
       "      <td>음식점</td>\n",
       "      <td>한식</td>\n",
       "      <td>None</td>\n",
       "    </tr>\n",
       "    <tr>\n",
       "      <th>16961</th>\n",
       "      <td>설악힐호텔은 동해고속도로 속초톨게이트에서 멀지 않은 관광로 변에 있다. 속초의 대표...</td>\n",
       "      <td>숙박</td>\n",
       "      <td>숙박시설</td>\n",
       "      <td>모텔</td>\n",
       "      <td>None</td>\n",
       "    </tr>\n",
       "    <tr>\n",
       "      <th>16962</th>\n",
       "      <td>충남 서산시 중심가에 위치한 줌모텔은 프라이버스가 보장되는 조용한 공간으로 가치가 ...</td>\n",
       "      <td>숙박</td>\n",
       "      <td>숙박시설</td>\n",
       "      <td>모텔</td>\n",
       "      <td>None</td>\n",
       "    </tr>\n",
       "    <tr>\n",
       "      <th>16963</th>\n",
       "      <td>토토큰바위캠핑장은 경기도 가평지역 내에서도 청정지역으로 손꼽히는 지역으로 주변에 화...</td>\n",
       "      <td>레포츠</td>\n",
       "      <td>육상 레포츠</td>\n",
       "      <td>야영장,오토캠핑장</td>\n",
       "      <td>None</td>\n",
       "    </tr>\n",
       "    <tr>\n",
       "      <th>16964</th>\n",
       "      <td>포천의 진산으로 불리우는 왕방산(王訪山)에는 천년의 역사를 간직하고 있는 왕산사(王...</td>\n",
       "      <td>인문(문화/예술/역사)</td>\n",
       "      <td>역사관광지</td>\n",
       "      <td>사찰</td>\n",
       "      <td>None</td>\n",
       "    </tr>\n",
       "  </tbody>\n",
       "</table>\n",
       "<p>16965 rows × 5 columns</p>\n",
       "</div>"
      ],
      "text/plain": [
       "                                                overview          cat1  \\\n",
       "0      소안항은 조용한 섬으로 인근해안이 청정해역으로 일찍이 김 양식을 해서 높은 소득을 ...            자연   \n",
       "1      경기도 이천시 모가면에 있는 골프장으로 대중제 18홀이다. 회원제로 개장을 했다가 ...           레포츠   \n",
       "2      금오산성숯불갈비는 한우고기만을 전문적으로 취급하고 사용하는 부식 자재 또한 유기농법...            음식   \n",
       "3      철판 위에서 요리하는 안동찜닭을 맛볼 수 있는 곳이다. 경상북도 안동시에 있는 한식...            음식   \n",
       "4      ※ 영업시간 10:30 ~ 20:30\\n\\n3대에 걸쳐 아귀만을 전문으로 취급하는 ...            음식   \n",
       "...                                                  ...           ...   \n",
       "16960  해발 12000m에 자리한 식담겸 카페점문점이다.<br>곤드레밥과 감자전을 판매하고...            음식   \n",
       "16961  설악힐호텔은 동해고속도로 속초톨게이트에서 멀지 않은 관광로 변에 있다. 속초의 대표...            숙박   \n",
       "16962  충남 서산시 중심가에 위치한 줌모텔은 프라이버스가 보장되는 조용한 공간으로 가치가 ...            숙박   \n",
       "16963  토토큰바위캠핑장은 경기도 가평지역 내에서도 청정지역으로 손꼽히는 지역으로 주변에 화...           레포츠   \n",
       "16964  포천의 진산으로 불리우는 왕방산(王訪山)에는 천년의 역사를 간직하고 있는 왕산사(王...  인문(문화/예술/역사)   \n",
       "\n",
       "         cat2       cat3 translated  \n",
       "0       자연관광지      항구/포구       None  \n",
       "1      육상 레포츠         골프       None  \n",
       "2         음식점         한식       None  \n",
       "3         음식점         한식       None  \n",
       "4         음식점         한식       None  \n",
       "...       ...        ...        ...  \n",
       "16960     음식점         한식       None  \n",
       "16961    숙박시설         모텔       None  \n",
       "16962    숙박시설         모텔       None  \n",
       "16963  육상 레포츠  야영장,오토캠핑장       None  \n",
       "16964   역사관광지         사찰       None  \n",
       "\n",
       "[16965 rows x 5 columns]"
      ]
     },
     "execution_count": 2,
     "metadata": {},
     "output_type": "execute_result"
    }
   ],
   "source": [
    "data = pd.read_csv('final_train.csv')\n",
    "#data.drop(['id', 'img_path'], axis=1, inplace=True)\n",
    "data['translated'] = None\n",
    "data"
   ]
  },
  {
   "cell_type": "markdown",
   "id": "2febb481",
   "metadata": {},
   "source": [
    "### 크롬드라이버 열기 in jupyter notebook"
   ]
  },
  {
   "cell_type": "markdown",
   "id": "e197897f",
   "metadata": {},
   "source": [
    "크롬드라이버 구글에 검색해서 다운받으신 다음에, 크롬드라이버 경로 넣고 실행해주세요."
   ]
  },
  {
   "cell_type": "code",
   "execution_count": 3,
   "id": "7c5be12f",
   "metadata": {},
   "outputs": [
    {
     "name": "stderr",
     "output_type": "stream",
     "text": [
      "<ipython-input-3-37453086b443>:1: DeprecationWarning: executable_path has been deprecated, please pass in a Service object\n",
      "  driver = webdriver.Chrome(\"C:/Users/USER/Desktop/대학/기타/ipynb/chromedriver.exe\")\n"
     ]
    }
   ],
   "source": [
    "#크롬 드라이버 열기 (크롬드라이버 경로는 각자 설정해주세요)\n",
    "driver = webdriver.Chrome(\"C:/Users/USER/Desktop/대학/기타/ipynb/chromedriver.exe\")\n",
    "#드라이버에서 파파고 페이지 열기\n",
    "driver.get('https://papago.naver.com')"
   ]
  },
  {
   "cell_type": "markdown",
   "id": "f725909c",
   "metadata": {},
   "source": [
    "### 크롬드라이버 열기 in colab"
   ]
  },
  {
   "cell_type": "code",
   "execution_count": null,
   "id": "68fbe572",
   "metadata": {},
   "outputs": [],
   "source": [
    "!pip install selenium\n",
    "!apt-get update\n",
    "!apt install chromium-chromedriver\n",
    "!cp /usr/lib/chromium-browser/chromedriver/usr/bin"
   ]
  },
  {
   "cell_type": "code",
   "execution_count": null,
   "id": "cf528f71",
   "metadata": {},
   "outputs": [],
   "source": [
    "import sys\n",
    "sys.path.insert(0, '/usr/lib/chromium-chromedriver')"
   ]
  },
  {
   "cell_type": "code",
   "execution_count": null,
   "id": "be643d91",
   "metadata": {},
   "outputs": [],
   "source": [
    "options = webdriver.ChromeOptions()\n",
    "options.add_argument('--headless')        # Head-less 설정\n",
    "options.add_argument('--no-sandbox')\n",
    "options.add_argument('--disable-dev-shm-usage')\n",
    "driver = webdriver.Chrome('chromedriver', options=options)\n",
    "\n",
    "#드라이버에서 파파고 페이지 열기\n",
    "driver.get('https://papago.naver.com')"
   ]
  },
  {
   "cell_type": "markdown",
   "id": "ebcb2fbd",
   "metadata": {},
   "source": [
    "### 번역 자동화"
   ]
  },
  {
   "cell_type": "markdown",
   "id": "eca12e8d",
   "metadata": {},
   "source": [
    "각자 분할한 파트 따로 데이터프레임으로 만든 다음에, 아래 코드 중 data 부분을 새로 만든 데이터프레임으로 바꿔주시면 됩니다.\n",
    "크롬드라이버가 오래 돌아가면 좀 렉걸려가지고 한 번에 돌리지 마시고 나눠서 돌리시는 걸 추천드립니다."
   ]
  },
  {
   "cell_type": "code",
   "execution_count": 4,
   "id": "db11fba4",
   "metadata": {},
   "outputs": [],
   "source": [
    "#텍스트 입력하는 창\n",
    "input_box = driver.find_element(by=By.CSS_SELECTOR, value='textarea#txtSource')\n",
    "\n",
    "#번역 버튼 누르기\n",
    "button = driver.find_element(by=By.CSS_SELECTOR, value='button#btnTranslate')\n",
    "\n",
    "#입력한 텍스트 삭제하기\n",
    "#sourceEditArea > button\n",
    "x_button = driver.find_element(by=By.CLASS_NAME, value='btn_text_clse___1Bp8a')"
   ]
  },
  {
   "cell_type": "code",
   "execution_count": null,
   "id": "fb01a3e1",
   "metadata": {},
   "outputs": [],
   "source": [
    "for idx, ovv in enumerate(data['overview']):\n",
    "    try:\n",
    "        input_box.send_keys(ovv) #overview 텍스트 입력\n",
    "        button.click() #번역 버튼 누르기\n",
    "        time.sleep(5) #번역 결과 뜰 때까지 기다리기\n",
    "        result = driver.find_element_by_css_selector('div#txtTarget').text #\n",
    "        data.iloc[idx, -1] = result\n",
    "        x_button.click()\n",
    "        time.sleep(2)\n",
    "    \n",
    "    except:\n",
    "        data.iloc[idx, -1] = None"
   ]
  },
  {
   "cell_type": "code",
   "execution_count": null,
   "id": "58931fa7",
   "metadata": {},
   "outputs": [],
   "source": [
    "data.to_csv('train_범위_.csv', encoding='utf-8-sig', index=False)"
   ]
  },
  {
   "cell_type": "code",
   "execution_count": null,
   "id": "42c54b67",
   "metadata": {},
   "outputs": [],
   "source": []
  },
  {
   "cell_type": "code",
   "execution_count": null,
   "id": "1d671295",
   "metadata": {},
   "outputs": [],
   "source": []
  },
  {
   "cell_type": "code",
   "execution_count": null,
   "id": "632af56d",
   "metadata": {},
   "outputs": [],
   "source": []
  },
  {
   "cell_type": "markdown",
   "id": "64834d64",
   "metadata": {},
   "source": [
    "### test translate (안 돌려도 됩니다)"
   ]
  },
  {
   "cell_type": "code",
   "execution_count": 31,
   "id": "e4013f7d",
   "metadata": {},
   "outputs": [
    {
     "data": {
      "text/html": [
       "<div>\n",
       "<style scoped>\n",
       "    .dataframe tbody tr th:only-of-type {\n",
       "        vertical-align: middle;\n",
       "    }\n",
       "\n",
       "    .dataframe tbody tr th {\n",
       "        vertical-align: top;\n",
       "    }\n",
       "\n",
       "    .dataframe thead th {\n",
       "        text-align: right;\n",
       "    }\n",
       "</style>\n",
       "<table border=\"1\" class=\"dataframe\">\n",
       "  <thead>\n",
       "    <tr style=\"text-align: right;\">\n",
       "      <th></th>\n",
       "      <th>overview</th>\n",
       "      <th>cat1</th>\n",
       "      <th>cat2</th>\n",
       "      <th>cat3</th>\n",
       "      <th>translated</th>\n",
       "    </tr>\n",
       "  </thead>\n",
       "  <tbody>\n",
       "    <tr>\n",
       "      <th>0</th>\n",
       "      <td>소안항은 조용한 섬으로 인근해안이 청정해역으로 일찍이 김 양식을 해서 높은 소득을 ...</td>\n",
       "      <td>자연</td>\n",
       "      <td>자연관광지</td>\n",
       "      <td>항구/포구</td>\n",
       "      <td>None</td>\n",
       "    </tr>\n",
       "  </tbody>\n",
       "</table>\n",
       "</div>"
      ],
      "text/plain": [
       "                                            overview cat1   cat2   cat3  \\\n",
       "0  소안항은 조용한 섬으로 인근해안이 청정해역으로 일찍이 김 양식을 해서 높은 소득을 ...   자연  자연관광지  항구/포구   \n",
       "\n",
       "  translated  \n",
       "0       None  "
      ]
     },
     "execution_count": 31,
     "metadata": {},
     "output_type": "execute_result"
    }
   ],
   "source": [
    "exovv = data.head(1)\n",
    "exovv"
   ]
  },
  {
   "cell_type": "code",
   "execution_count": null,
   "id": "312644e9",
   "metadata": {},
   "outputs": [],
   "source": []
  },
  {
   "cell_type": "code",
   "execution_count": null,
   "id": "72a8c899",
   "metadata": {},
   "outputs": [],
   "source": [
    "input_box.clear()\n",
    "input_box.send_keys(exovv['overview'])\n",
    "button.click()\n",
    "time.sleep(4)\n",
    "\n",
    "result = driver.find_element_by_css_selector('div#txtTarget').text\n",
    "exovv.iloc[idx, -1] = result\n",
    "x_button.click()"
   ]
  },
  {
   "cell_type": "code",
   "execution_count": 49,
   "id": "2a620b13",
   "metadata": {},
   "outputs": [
    {
     "name": "stdout",
     "output_type": "stream",
     "text": [
      "소안항은 조용한 섬으로 인근해안이 청정해역으로 일찍이 김 양식을 해서 높은 소득을 올리고 있으며 바다낚시터로도 유명하다. 항 주변에 설치된 양식장들은 섬사람들의 부지런한 생활상을 고스 란히 담고 있으며 일몰 때 섬의 정경은 바다의 아름다움을 그대로 품고 있는 듯하다. 또한, 섬에는 각시여 전설, 도둑바위 등의 설화가 전해 내려오고 있으며, 매년 정월 풍어제 풍속이 이어지고 있다.<br>\n"
     ]
    }
   ],
   "source": [
    "print(exovv['overview'][0])"
   ]
  },
  {
   "cell_type": "code",
   "execution_count": 50,
   "id": "640b24e6",
   "metadata": {},
   "outputs": [
    {
     "name": "stdout",
     "output_type": "stream",
     "text": [
      "Soan Port is a quiet island, and the nearby coast is a clean sea area, earning high income by farming seaweed early, and is also famous as a sea fishing site. The fish farms installed around the port contain the diligent lives of the islanders, and the scenery of the island at sunset seems to hold the beauty of the sea. In addition, legends of Gaksiyeo and Thief Rock have been handed down on the island, and the customs of the Lunar New Year's Day are continuing every year.<br>\n"
     ]
    }
   ],
   "source": [
    "print(exovv['translated'][0])"
   ]
  },
  {
   "cell_type": "markdown",
   "id": "89e05655",
   "metadata": {},
   "source": [
    "### 100개 돌려보기 (안 돌려도 됩니다)"
   ]
  },
  {
   "cell_type": "code",
   "execution_count": 5,
   "id": "33897c87",
   "metadata": {},
   "outputs": [
    {
     "data": {
      "text/html": [
       "<div>\n",
       "<style scoped>\n",
       "    .dataframe tbody tr th:only-of-type {\n",
       "        vertical-align: middle;\n",
       "    }\n",
       "\n",
       "    .dataframe tbody tr th {\n",
       "        vertical-align: top;\n",
       "    }\n",
       "\n",
       "    .dataframe thead th {\n",
       "        text-align: right;\n",
       "    }\n",
       "</style>\n",
       "<table border=\"1\" class=\"dataframe\">\n",
       "  <thead>\n",
       "    <tr style=\"text-align: right;\">\n",
       "      <th></th>\n",
       "      <th>overview</th>\n",
       "      <th>cat1</th>\n",
       "      <th>cat2</th>\n",
       "      <th>cat3</th>\n",
       "      <th>translated</th>\n",
       "    </tr>\n",
       "  </thead>\n",
       "  <tbody>\n",
       "    <tr>\n",
       "      <th>0</th>\n",
       "      <td>소안항은 조용한 섬으로 인근해안이 청정해역으로 일찍이 김 양식을 해서 높은 소득을 ...</td>\n",
       "      <td>자연</td>\n",
       "      <td>자연관광지</td>\n",
       "      <td>항구/포구</td>\n",
       "      <td>None</td>\n",
       "    </tr>\n",
       "    <tr>\n",
       "      <th>1</th>\n",
       "      <td>경기도 이천시 모가면에 있는 골프장으로 대중제 18홀이다. 회원제로 개장을 했다가 ...</td>\n",
       "      <td>레포츠</td>\n",
       "      <td>육상 레포츠</td>\n",
       "      <td>골프</td>\n",
       "      <td>None</td>\n",
       "    </tr>\n",
       "    <tr>\n",
       "      <th>2</th>\n",
       "      <td>금오산성숯불갈비는 한우고기만을 전문적으로 취급하고 사용하는 부식 자재 또한 유기농법...</td>\n",
       "      <td>음식</td>\n",
       "      <td>음식점</td>\n",
       "      <td>한식</td>\n",
       "      <td>None</td>\n",
       "    </tr>\n",
       "    <tr>\n",
       "      <th>3</th>\n",
       "      <td>철판 위에서 요리하는 안동찜닭을 맛볼 수 있는 곳이다. 경상북도 안동시에 있는 한식...</td>\n",
       "      <td>음식</td>\n",
       "      <td>음식점</td>\n",
       "      <td>한식</td>\n",
       "      <td>None</td>\n",
       "    </tr>\n",
       "    <tr>\n",
       "      <th>4</th>\n",
       "      <td>※ 영업시간 10:30 ~ 20:30\\n\\n3대에 걸쳐 아귀만을 전문으로 취급하는 ...</td>\n",
       "      <td>음식</td>\n",
       "      <td>음식점</td>\n",
       "      <td>한식</td>\n",
       "      <td>None</td>\n",
       "    </tr>\n",
       "    <tr>\n",
       "      <th>...</th>\n",
       "      <td>...</td>\n",
       "      <td>...</td>\n",
       "      <td>...</td>\n",
       "      <td>...</td>\n",
       "      <td>...</td>\n",
       "    </tr>\n",
       "    <tr>\n",
       "      <th>95</th>\n",
       "      <td>서울시 강남구 신사동에 자리한 근린공원이다.\\n 1970년 3월 10일 박정희 전 ...</td>\n",
       "      <td>자연</td>\n",
       "      <td>자연관광지</td>\n",
       "      <td>자연생태관광지</td>\n",
       "      <td>None</td>\n",
       "    </tr>\n",
       "    <tr>\n",
       "      <th>96</th>\n",
       "      <td>김포한강오토캠핑장은 전류리 포구를 거쳐 한강의 물줄기를 따라 조성된 환경 친화적 오...</td>\n",
       "      <td>레포츠</td>\n",
       "      <td>육상 레포츠</td>\n",
       "      <td>야영장,오토캠핑장</td>\n",
       "      <td>None</td>\n",
       "    </tr>\n",
       "    <tr>\n",
       "      <th>97</th>\n",
       "      <td>상원사 동종은 현존(現存)하는 한국 종 가운데 가장 오래되고 제일 아름다운 종으로 ...</td>\n",
       "      <td>인문(문화/예술/역사)</td>\n",
       "      <td>역사관광지</td>\n",
       "      <td>사찰</td>\n",
       "      <td>None</td>\n",
       "    </tr>\n",
       "    <tr>\n",
       "      <th>98</th>\n",
       "      <td>미리 만나보는 코리아그랜드세일, 'Korea Grand Sale, Summer Sp...</td>\n",
       "      <td>인문(문화/예술/역사)</td>\n",
       "      <td>축제</td>\n",
       "      <td>일반축제</td>\n",
       "      <td>None</td>\n",
       "    </tr>\n",
       "    <tr>\n",
       "      <th>99</th>\n",
       "      <td>울진군 근남면 산포리에 있는 망양(望洋)해수욕장 근처 언덕에 자리 잡고 있다. 이곳...</td>\n",
       "      <td>인문(문화/예술/역사)</td>\n",
       "      <td>역사관광지</td>\n",
       "      <td>유적지/사적지</td>\n",
       "      <td>None</td>\n",
       "    </tr>\n",
       "  </tbody>\n",
       "</table>\n",
       "<p>100 rows × 5 columns</p>\n",
       "</div>"
      ],
      "text/plain": [
       "                                             overview          cat1    cat2  \\\n",
       "0   소안항은 조용한 섬으로 인근해안이 청정해역으로 일찍이 김 양식을 해서 높은 소득을 ...            자연   자연관광지   \n",
       "1   경기도 이천시 모가면에 있는 골프장으로 대중제 18홀이다. 회원제로 개장을 했다가 ...           레포츠  육상 레포츠   \n",
       "2   금오산성숯불갈비는 한우고기만을 전문적으로 취급하고 사용하는 부식 자재 또한 유기농법...            음식     음식점   \n",
       "3   철판 위에서 요리하는 안동찜닭을 맛볼 수 있는 곳이다. 경상북도 안동시에 있는 한식...            음식     음식점   \n",
       "4   ※ 영업시간 10:30 ~ 20:30\\n\\n3대에 걸쳐 아귀만을 전문으로 취급하는 ...            음식     음식점   \n",
       "..                                                ...           ...     ...   \n",
       "95  서울시 강남구 신사동에 자리한 근린공원이다.\\n 1970년 3월 10일 박정희 전 ...            자연   자연관광지   \n",
       "96  김포한강오토캠핑장은 전류리 포구를 거쳐 한강의 물줄기를 따라 조성된 환경 친화적 오...           레포츠  육상 레포츠   \n",
       "97  상원사 동종은 현존(現存)하는 한국 종 가운데 가장 오래되고 제일 아름다운 종으로 ...  인문(문화/예술/역사)   역사관광지   \n",
       "98  미리 만나보는 코리아그랜드세일, 'Korea Grand Sale, Summer Sp...  인문(문화/예술/역사)      축제   \n",
       "99  울진군 근남면 산포리에 있는 망양(望洋)해수욕장 근처 언덕에 자리 잡고 있다. 이곳...  인문(문화/예술/역사)   역사관광지   \n",
       "\n",
       "         cat3 translated  \n",
       "0       항구/포구       None  \n",
       "1          골프       None  \n",
       "2          한식       None  \n",
       "3          한식       None  \n",
       "4          한식       None  \n",
       "..        ...        ...  \n",
       "95    자연생태관광지       None  \n",
       "96  야영장,오토캠핑장       None  \n",
       "97         사찰       None  \n",
       "98       일반축제       None  \n",
       "99    유적지/사적지       None  \n",
       "\n",
       "[100 rows x 5 columns]"
      ]
     },
     "execution_count": 5,
     "metadata": {},
     "output_type": "execute_result"
    }
   ],
   "source": [
    "df100 = data.iloc[:100, :]\n",
    "df100"
   ]
  },
  {
   "cell_type": "code",
   "execution_count": 6,
   "id": "6fe683a2",
   "metadata": {},
   "outputs": [
    {
     "name": "stderr",
     "output_type": "stream",
     "text": [
      "<ipython-input-6-9088396a41db>:6: DeprecationWarning: find_element_by_css_selector is deprecated. Please use find_element(by=By.CSS_SELECTOR, value=css_selector) instead\n",
      "  result = driver.find_element_by_css_selector('div#txtTarget').text\n",
      "C:\\Users\\USER\\anaconda3\\lib\\site-packages\\pandas\\core\\indexing.py:1720: SettingWithCopyWarning: \n",
      "A value is trying to be set on a copy of a slice from a DataFrame.\n",
      "Try using .loc[row_indexer,col_indexer] = value instead\n",
      "\n",
      "See the caveats in the documentation: https://pandas.pydata.org/pandas-docs/stable/user_guide/indexing.html#returning-a-view-versus-a-copy\n",
      "  self._setitem_single_column(loc, value, pi)\n"
     ]
    }
   ],
   "source": [
    "for idx, ovv in enumerate(df100['overview']):\n",
    "    try:\n",
    "        input_box.send_keys(ovv)\n",
    "        button.click()\n",
    "        time.sleep(5)\n",
    "        result = driver.find_element_by_css_selector('div#txtTarget').text\n",
    "        df100.iloc[idx, -1] = result\n",
    "        x_button.click()\n",
    "        time.sleep(2)\n",
    "    \n",
    "    except:\n",
    "        df100.iloc[idx, -1] = None"
   ]
  },
  {
   "cell_type": "code",
   "execution_count": 8,
   "id": "4ed34f12",
   "metadata": {},
   "outputs": [
    {
     "data": {
      "text/html": [
       "<div>\n",
       "<style scoped>\n",
       "    .dataframe tbody tr th:only-of-type {\n",
       "        vertical-align: middle;\n",
       "    }\n",
       "\n",
       "    .dataframe tbody tr th {\n",
       "        vertical-align: top;\n",
       "    }\n",
       "\n",
       "    .dataframe thead th {\n",
       "        text-align: right;\n",
       "    }\n",
       "</style>\n",
       "<table border=\"1\" class=\"dataframe\">\n",
       "  <thead>\n",
       "    <tr style=\"text-align: right;\">\n",
       "      <th></th>\n",
       "      <th>overview</th>\n",
       "      <th>cat1</th>\n",
       "      <th>cat2</th>\n",
       "      <th>cat3</th>\n",
       "      <th>translated</th>\n",
       "    </tr>\n",
       "  </thead>\n",
       "  <tbody>\n",
       "    <tr>\n",
       "      <th>0</th>\n",
       "      <td>소안항은 조용한 섬으로 인근해안이 청정해역으로 일찍이 김 양식을 해서 높은 소득을 ...</td>\n",
       "      <td>자연</td>\n",
       "      <td>자연관광지</td>\n",
       "      <td>항구/포구</td>\n",
       "      <td>Soan Port is a quiet island, and the nearby co...</td>\n",
       "    </tr>\n",
       "    <tr>\n",
       "      <th>1</th>\n",
       "      <td>경기도 이천시 모가면에 있는 골프장으로 대중제 18홀이다. 회원제로 개장을 했다가 ...</td>\n",
       "      <td>레포츠</td>\n",
       "      <td>육상 레포츠</td>\n",
       "      <td>골프</td>\n",
       "      <td>It is a golf course located in Moga-myeon, Ich...</td>\n",
       "    </tr>\n",
       "    <tr>\n",
       "      <th>2</th>\n",
       "      <td>금오산성숯불갈비는 한우고기만을 전문적으로 취급하고 사용하는 부식 자재 또한 유기농법...</td>\n",
       "      <td>음식</td>\n",
       "      <td>음식점</td>\n",
       "      <td>한식</td>\n",
       "      <td>Geumosanseong Charcoal Grilled Ribs are said t...</td>\n",
       "    </tr>\n",
       "    <tr>\n",
       "      <th>3</th>\n",
       "      <td>철판 위에서 요리하는 안동찜닭을 맛볼 수 있는 곳이다. 경상북도 안동시에 있는 한식...</td>\n",
       "      <td>음식</td>\n",
       "      <td>음식점</td>\n",
       "      <td>한식</td>\n",
       "      <td>It is a place where you can taste Andong Jjimd...</td>\n",
       "    </tr>\n",
       "    <tr>\n",
       "      <th>4</th>\n",
       "      <td>※ 영업시간 10:30 ~ 20:30\\n\\n3대에 걸쳐 아귀만을 전문으로 취급하는 ...</td>\n",
       "      <td>음식</td>\n",
       "      <td>음식점</td>\n",
       "      <td>한식</td>\n",
       "      <td>※ Business hours 10:30 to 20:30\\n\\nIt is a res...</td>\n",
       "    </tr>\n",
       "    <tr>\n",
       "      <th>...</th>\n",
       "      <td>...</td>\n",
       "      <td>...</td>\n",
       "      <td>...</td>\n",
       "      <td>...</td>\n",
       "      <td>...</td>\n",
       "    </tr>\n",
       "    <tr>\n",
       "      <th>95</th>\n",
       "      <td>서울시 강남구 신사동에 자리한 근린공원이다.\\n 1970년 3월 10일 박정희 전 ...</td>\n",
       "      <td>자연</td>\n",
       "      <td>자연관광지</td>\n",
       "      <td>자연생태관광지</td>\n",
       "      <td>It is a neighborhood park located in Sinsa-don...</td>\n",
       "    </tr>\n",
       "    <tr>\n",
       "      <th>96</th>\n",
       "      <td>김포한강오토캠핑장은 전류리 포구를 거쳐 한강의 물줄기를 따라 조성된 환경 친화적 오...</td>\n",
       "      <td>레포츠</td>\n",
       "      <td>육상 레포츠</td>\n",
       "      <td>야영장,오토캠핑장</td>\n",
       "      <td>Gimpo Hangang Auto Camping Site is an environm...</td>\n",
       "    </tr>\n",
       "    <tr>\n",
       "      <th>97</th>\n",
       "      <td>상원사 동종은 현존(現存)하는 한국 종 가운데 가장 오래되고 제일 아름다운 종으로 ...</td>\n",
       "      <td>인문(문화/예술/역사)</td>\n",
       "      <td>역사관광지</td>\n",
       "      <td>사찰</td>\n",
       "      <td>Sangwonsa Temple Dongjong is the oldest and mo...</td>\n",
       "    </tr>\n",
       "    <tr>\n",
       "      <th>98</th>\n",
       "      <td>미리 만나보는 코리아그랜드세일, 'Korea Grand Sale, Summer Sp...</td>\n",
       "      <td>인문(문화/예술/역사)</td>\n",
       "      <td>축제</td>\n",
       "      <td>일반축제</td>\n",
       "      <td>Korea Grand Sale, 'Korea Grand Sale, Summer Sp...</td>\n",
       "    </tr>\n",
       "    <tr>\n",
       "      <th>99</th>\n",
       "      <td>울진군 근남면 산포리에 있는 망양(望洋)해수욕장 근처 언덕에 자리 잡고 있다. 이곳...</td>\n",
       "      <td>인문(문화/예술/역사)</td>\n",
       "      <td>역사관광지</td>\n",
       "      <td>유적지/사적지</td>\n",
       "      <td>It is located on a hill near Mangyang Beach in...</td>\n",
       "    </tr>\n",
       "  </tbody>\n",
       "</table>\n",
       "<p>100 rows × 5 columns</p>\n",
       "</div>"
      ],
      "text/plain": [
       "                                             overview          cat1    cat2  \\\n",
       "0   소안항은 조용한 섬으로 인근해안이 청정해역으로 일찍이 김 양식을 해서 높은 소득을 ...            자연   자연관광지   \n",
       "1   경기도 이천시 모가면에 있는 골프장으로 대중제 18홀이다. 회원제로 개장을 했다가 ...           레포츠  육상 레포츠   \n",
       "2   금오산성숯불갈비는 한우고기만을 전문적으로 취급하고 사용하는 부식 자재 또한 유기농법...            음식     음식점   \n",
       "3   철판 위에서 요리하는 안동찜닭을 맛볼 수 있는 곳이다. 경상북도 안동시에 있는 한식...            음식     음식점   \n",
       "4   ※ 영업시간 10:30 ~ 20:30\\n\\n3대에 걸쳐 아귀만을 전문으로 취급하는 ...            음식     음식점   \n",
       "..                                                ...           ...     ...   \n",
       "95  서울시 강남구 신사동에 자리한 근린공원이다.\\n 1970년 3월 10일 박정희 전 ...            자연   자연관광지   \n",
       "96  김포한강오토캠핑장은 전류리 포구를 거쳐 한강의 물줄기를 따라 조성된 환경 친화적 오...           레포츠  육상 레포츠   \n",
       "97  상원사 동종은 현존(現存)하는 한국 종 가운데 가장 오래되고 제일 아름다운 종으로 ...  인문(문화/예술/역사)   역사관광지   \n",
       "98  미리 만나보는 코리아그랜드세일, 'Korea Grand Sale, Summer Sp...  인문(문화/예술/역사)      축제   \n",
       "99  울진군 근남면 산포리에 있는 망양(望洋)해수욕장 근처 언덕에 자리 잡고 있다. 이곳...  인문(문화/예술/역사)   역사관광지   \n",
       "\n",
       "         cat3                                         translated  \n",
       "0       항구/포구  Soan Port is a quiet island, and the nearby co...  \n",
       "1          골프  It is a golf course located in Moga-myeon, Ich...  \n",
       "2          한식  Geumosanseong Charcoal Grilled Ribs are said t...  \n",
       "3          한식  It is a place where you can taste Andong Jjimd...  \n",
       "4          한식  ※ Business hours 10:30 to 20:30\\n\\nIt is a res...  \n",
       "..        ...                                                ...  \n",
       "95    자연생태관광지  It is a neighborhood park located in Sinsa-don...  \n",
       "96  야영장,오토캠핑장  Gimpo Hangang Auto Camping Site is an environm...  \n",
       "97         사찰  Sangwonsa Temple Dongjong is the oldest and mo...  \n",
       "98       일반축제  Korea Grand Sale, 'Korea Grand Sale, Summer Sp...  \n",
       "99    유적지/사적지  It is located on a hill near Mangyang Beach in...  \n",
       "\n",
       "[100 rows x 5 columns]"
      ]
     },
     "execution_count": 8,
     "metadata": {},
     "output_type": "execute_result"
    }
   ],
   "source": [
    "df100"
   ]
  },
  {
   "cell_type": "code",
   "execution_count": 11,
   "id": "008b5b4f",
   "metadata": {},
   "outputs": [],
   "source": [
    "df100.to_csv('train0_100.csv', encoding='utf-8-sig', index=False)"
   ]
  },
  {
   "cell_type": "code",
   "execution_count": 9,
   "id": "2b1edf91",
   "metadata": {},
   "outputs": [
    {
     "data": {
      "text/plain": [
       "'Located in Goheung, the Deungryang Bay Scenic Recreation Center is a caravan-only camping site where you can see the open tidal flat and the calm sea in contact with Jangseon Beach. There are a total of four caravans, with individual shower rooms and heating facilities inside the camping car, and individual tables in front of the caravans. When using the caravan, you can install your own tent, and you can experience rural experiences, constellation observation, and tidal flat experience along with camping.'"
      ]
     },
     "execution_count": 9,
     "metadata": {},
     "output_type": "execute_result"
    }
   ],
   "source": [
    "df100['translated'][77]"
   ]
  }
 ],
 "metadata": {
  "kernelspec": {
   "display_name": "Python 3",
   "language": "python",
   "name": "python3"
  },
  "language_info": {
   "codemirror_mode": {
    "name": "ipython",
    "version": 3
   },
   "file_extension": ".py",
   "mimetype": "text/x-python",
   "name": "python",
   "nbconvert_exporter": "python",
   "pygments_lexer": "ipython3",
   "version": "3.8.8"
  }
 },
 "nbformat": 4,
 "nbformat_minor": 5
}
